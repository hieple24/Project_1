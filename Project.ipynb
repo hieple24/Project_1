{
 "cells": [
  {
   "cell_type": "code",
   "execution_count": 47,
   "id": "eb81d008-7708-478c-86b5-17a698fa2086",
   "metadata": {},
   "outputs": [],
   "source": [
    "#Required Libraries and dependencies\n",
    "import pandas as pd\n",
    "from pathlib import Path\n",
    "%matplotlib inline"
   ]
  },
  {
   "cell_type": "code",
   "execution_count": 52,
   "id": "030ded78-d61a-4db8-9092-b7db43f540e1",
   "metadata": {},
   "outputs": [
    {
     "data": {
      "text/plain": [
       "date\n",
       "2020-09-01    0.125148\n",
       "2020-09-02    0.115445\n",
       "2020-09-03    0.096363\n",
       "2020-09-04    0.102169\n",
       "2020-09-05    0.089524\n",
       "                ...   \n",
       "2021-08-28    2.848068\n",
       "2021-08-29    2.860966\n",
       "2021-08-30    2.742175\n",
       "2021-08-31    2.779756\n",
       "2021-09-01    2.860615\n",
       "Name: PriceUSD, Length: 366, dtype: float64"
      ]
     },
     "execution_count": 52,
     "metadata": {},
     "output_type": "execute_result"
    }
   ],
   "source": [
    "#Read in ADA crpytocurrency CSV file\n",
    "#Locate the data we need: Closing price in USD from Sept 2020 - Sept 2021\n",
    "\n",
    "read_csv = Path(\"Resources/ADA.csv\")\n",
    "ADA = pd.read_csv(\n",
    "    Path('Resources/ADA.csv'),\n",
    "    index_col=\"date\",\n",
    "    parse_dates=True,\n",
    "    infer_datetime_format=True)\n",
    "\n",
    "ADA_close = ADA['PriceUSD'].loc['2020-09-01' : '2021-09-01']\n",
    "ADA_close"
   ]
  },
  {
   "cell_type": "code",
   "execution_count": 54,
   "id": "eee57f02-710a-4f8d-9ad6-b8d4561c8a1a",
   "metadata": {},
   "outputs": [
    {
     "data": {
      "text/plain": [
       "date\n",
       "2020-09-01     24.889004\n",
       "2020-09-02     24.757653\n",
       "2020-09-03     20.778159\n",
       "2020-09-04     20.992540\n",
       "2020-09-05     19.247999\n",
       "                 ...    \n",
       "2021-06-11    344.617302\n",
       "2021-06-12    344.827608\n",
       "2021-06-13    365.265889\n",
       "2021-06-14    369.800282\n",
       "2021-06-15    367.981888\n",
       "Name: PriceUSD, Length: 288, dtype: float64"
      ]
     },
     "execution_count": 54,
     "metadata": {},
     "output_type": "execute_result"
    }
   ],
   "source": [
    "#Read in BNB crpytocurrency CSV file\n",
    "#Locate the data we need: Closing price in USD from Sept 2020 - Sept 2021\n",
    "#Confirm the data was imported properly\n",
    "\n",
    "read_csv = Path(\"Resources/BNB.csv\")\n",
    "BNB = pd.read_csv(\n",
    "    Path('Resources/BNB.csv'),\n",
    "    index_col=\"date\",\n",
    "    parse_dates=True,\n",
    "    infer_datetime_format=True)\n",
    "\n",
    "BNB_close = BNB['PriceUSD'].loc['2020-09-01' : '2021-09-01']\n",
    "BNB_close"
   ]
  },
  {
   "cell_type": "code",
   "execution_count": 55,
   "id": "365b39bb-fdf9-4105-b485-75642468bd69",
   "metadata": {},
   "outputs": [
    {
     "data": {
      "text/plain": [
       "date\n",
       "2020-09-01     24.889004\n",
       "2020-09-02     24.757653\n",
       "2020-09-03     20.778159\n",
       "2020-09-04     20.992540\n",
       "2020-09-05     19.247999\n",
       "                 ...    \n",
       "2021-06-11    344.617302\n",
       "2021-06-12    344.827608\n",
       "2021-06-13    365.265889\n",
       "2021-06-14    369.800282\n",
       "2021-06-15    367.981888\n",
       "Name: PriceUSD, Length: 288, dtype: float64"
      ]
     },
     "execution_count": 55,
     "metadata": {},
     "output_type": "execute_result"
    }
   ],
   "source": [
    "#Read in BNB crpytocurrency CSV file\n",
    "#Locate the data we need: Closing price in USD from Sept 2020 - Sept 2021\n",
    "#Confirm the data was imported properly\n",
    "\n",
    "read_csv = Path(\"Resources/BNB.csv\")\n",
    "BNB = pd.read_csv(\n",
    "    Path('Resources/BNB.csv'),\n",
    "    index_col=\"date\",\n",
    "    parse_dates=True,\n",
    "    infer_datetime_format=True)\n",
    "\n",
    "BNB_close = BNB['PriceUSD'].loc['2020-09-01' : '2021-09-01']\n",
    "BNB_close"
   ]
  },
  {
   "cell_type": "code",
   "execution_count": 56,
   "id": "b3331f25-556e-4c39-a1c0-92c7bac00f68",
   "metadata": {},
   "outputs": [
    {
     "data": {
      "text/plain": [
       "date\n",
       "2020-09-01    11970.364856\n",
       "2020-09-02    11414.520934\n",
       "2020-09-03    10261.494410\n",
       "2020-09-04    10471.966413\n",
       "2020-09-05    10128.643586\n",
       "                  ...     \n",
       "2021-08-28    48852.468800\n",
       "2021-08-29    48948.347958\n",
       "2021-08-30    47125.768519\n",
       "2021-08-31    47219.244342\n",
       "2021-09-01    48688.537557\n",
       "Name: PriceUSD, Length: 366, dtype: float64"
      ]
     },
     "execution_count": 56,
     "metadata": {},
     "output_type": "execute_result"
    }
   ],
   "source": [
    "#Read in BTC crpytocurrency CSV file\n",
    "#Locate the data we need: Closing price in USD from Sept 2020 - Sept 2021\n",
    "#Confirm the data was imported properly\n",
    "\n",
    "read_csv = Path(\"Resources/BTC.csv\")\n",
    "BTC = pd.read_csv(\n",
    "    Path('Resources/BTC.csv'),\n",
    "    index_col=\"date\",\n",
    "    parse_dates=True,\n",
    "    infer_datetime_format=True)\n",
    "\n",
    "BTC_close = BTC['PriceUSD'].loc['2020-09-01' : '2021-09-01']\n",
    "BTC_close"
   ]
  },
  {
   "cell_type": "code",
   "execution_count": 57,
   "id": "aad41cc2-1757-453b-8419-ddf4b082dfdd",
   "metadata": {},
   "outputs": [
    {
     "data": {
      "text/plain": [
       "date\n",
       "2020-09-01     480.749176\n",
       "2020-09-02     441.214134\n",
       "2020-09-03     383.542585\n",
       "2020-09-04     386.669076\n",
       "2020-09-05     331.420089\n",
       "                 ...     \n",
       "2021-08-28    3242.671750\n",
       "2021-08-29    3230.914601\n",
       "2021-08-30    3238.360364\n",
       "2021-08-31    3431.947753\n",
       "2021-09-01    3793.829682\n",
       "Name: PriceUSD, Length: 366, dtype: float64"
      ]
     },
     "execution_count": 57,
     "metadata": {},
     "output_type": "execute_result"
    }
   ],
   "source": [
    "#Read in BNB crpytocurrency CSV file\n",
    "#Locate the data we need: Closing price in USD from Sept 2020 - Sept 2021\n",
    "#Confirm the data was imported properly\n",
    "\n",
    "read_csv = Path(\"Resources/ETH.csv\")\n",
    "ETH = pd.read_csv(\n",
    "    Path('Resources/ETH.csv'),\n",
    "    index_col=\"date\",\n",
    "    parse_dates=True,\n",
    "    infer_datetime_format=True)\n",
    "\n",
    "ETH_close = ETH['PriceUSD'].loc['2020-09-01' : '2021-09-01']\n",
    "ETH_close"
   ]
  },
  {
   "cell_type": "code",
   "execution_count": 58,
   "id": "e07580fd-8b8a-4923-ade3-d724deeb22a7",
   "metadata": {},
   "outputs": [
    {
     "data": {
      "text/plain": [
       "date\n",
       "2020-09-01    0.296652\n",
       "2020-09-02    0.276553\n",
       "2020-09-03    0.247868\n",
       "2020-09-04    0.254619\n",
       "2020-09-05    0.235804\n",
       "                ...   \n",
       "2021-08-28    1.144846\n",
       "2021-08-29    1.146137\n",
       "2021-08-30    1.107433\n",
       "2021-08-31    1.185626\n",
       "2021-09-01    1.229071\n",
       "Name: PriceUSD, Length: 366, dtype: float64"
      ]
     },
     "execution_count": 58,
     "metadata": {},
     "output_type": "execute_result"
    }
   ],
   "source": [
    "#Read in BNB crpytocurrency CSV file\n",
    "#Locate the data we need: Closing price in USD from Sept 2020 - Sept 2021\n",
    "#Confirm the data was imported properly\n",
    "\n",
    "read_csv = Path(\"Resources/XRP.csv\")\n",
    "XRP = pd.read_csv(\n",
    "    Path('Resources/XRP.csv'),\n",
    "    index_col=\"date\",\n",
    "    parse_dates=True,\n",
    "    infer_datetime_format=True)\n",
    "\n",
    "XRP_close = XRP['PriceUSD'].loc['2020-09-01' : '2021-09-01']\n",
    "XRP_close"
   ]
  }
 ],
 "metadata": {
  "kernelspec": {
   "display_name": "Python 3.7.7 64-bit ('dev': conda)",
   "language": "python",
   "name": "python377jvsc74a57bd0c9092177438caf6af53bf6798ae872a9a0c11dd2dddf23f0584a27c034eb07b1"
  },
  "language_info": {
   "codemirror_mode": {
    "name": "ipython",
    "version": 3
   },
   "file_extension": ".py",
   "mimetype": "text/x-python",
   "name": "python",
   "nbconvert_exporter": "python",
   "pygments_lexer": "ipython3",
   "version": "3.7.7"
  }
 },
 "nbformat": 4,
 "nbformat_minor": 5
}
