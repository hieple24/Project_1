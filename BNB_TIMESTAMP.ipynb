{
 "cells": [
  {
   "cell_type": "code",
   "execution_count": 6,
   "id": "5b2b67c9-0004-47cd-bce6-13221e44f16b",
   "metadata": {},
   "outputs": [],
   "source": [
    "import requests\n",
    "import csv\n",
    "from datetime import date\n",
    "import matplotlib.pyplot as plt\n",
    "import pandas as pd\n",
    "from dotenv import load_dotenv\n",
    "from pathlib import Path\n",
    "import json\n",
    "from time import gmtime, strftime\n",
    "import time"
   ]
  },
  {
   "cell_type": "code",
   "execution_count": 7,
   "id": "86515c84-badc-4716-a95d-e9c07867df4c",
   "metadata": {},
   "outputs": [
    {
     "data": {
      "text/plain": [
       "True"
      ]
     },
     "execution_count": 7,
     "metadata": {},
     "output_type": "execute_result"
    }
   ],
   "source": [
    "load_dotenv()"
   ]
  },
  {
   "cell_type": "code",
   "execution_count": 8,
   "id": "e7edfa28-c9ed-4327-9547-a28786df84bc",
   "metadata": {},
   "outputs": [],
   "source": [
    "cryptocompare_api_key = \"cryptocompare_api_key\""
   ]
  },
  {
   "cell_type": "code",
   "execution_count": 9,
   "id": "0fc88a71-3692-498e-9ad3-ee3eda5e58d0",
   "metadata": {},
   "outputs": [],
   "source": [
    "def get_BNB_prices():\n",
    "    url = \"https://min-api.cryptocompare.com/data/v2/histohour?fsym=BNB&tsym=USD&limit=168&api_key=\"\n",
    "    response = requests.get(url + cryptocompare_api_key)\n",
    "    my_dict = response.json()\n",
    "    dictionary = my_dict[\"Data\"]\n",
    "    \n",
    "    columns = [\"Timestamp\", \"Value\"]\n",
    "    rows = []\n",
    "    \n",
    "    for entries in dictionary[\"Data\"]:\n",
    "        epoch = entries[\"time\"]\n",
    "        date = time.strftime(\"%m/%d/%Y, %H:%M:%S\", time.localtime(epoch))\n",
    "        closing_price = entries[\"close\"]\n",
    "        rows.append((date, closing_price))\n",
    "    \n",
    "    csvpath = Path(\"BNB_Data.csv\")\n",
    "    with open(csvpath, \"w\") as csvfile:\n",
    "        csvwriter = csv.writer(csvfile)\n",
    "        csvwriter.writerow(columns)\n",
    "        csvwriter.writerows(rows)"
   ]
  },
  {
   "cell_type": "code",
   "execution_count": 11,
   "id": "2c915954-838b-45ad-a71c-0210401a3028",
   "metadata": {},
   "outputs": [],
   "source": [
    "get_BNB_prices()"
   ]
  },
  {
   "cell_type": "code",
   "execution_count": null,
   "id": "22ad12f8-5b31-42eb-9380-f3090162e101",
   "metadata": {},
   "outputs": [],
   "source": []
  }
 ],
 "metadata": {
  "kernelspec": {
   "display_name": "dev",
   "language": "python",
   "name": "dev"
  },
  "language_info": {
   "codemirror_mode": {
    "name": "ipython",
    "version": 3
   },
   "file_extension": ".py",
   "mimetype": "text/x-python",
   "name": "python",
   "nbconvert_exporter": "python",
   "pygments_lexer": "ipython3",
   "version": "3.7.10"
  }
 },
 "nbformat": 4,
 "nbformat_minor": 5
}
