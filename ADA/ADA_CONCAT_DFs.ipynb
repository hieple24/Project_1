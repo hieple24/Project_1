{
 "cells": [
  {
   "cell_type": "code",
   "execution_count": 48,
   "id": "7f9ba803-c167-453f-89da-7e54f7c6768a",
   "metadata": {},
   "outputs": [],
   "source": [
    "import pandas as pd\n",
    "import json\n",
    "from pathlib import Path\n",
    "import csv\n",
    "import sqlalchemy as sql\n",
    "from sqlalchemy import create_engine\n",
    "%matplotlib inline\n",
    "import numpy as np\n",
    "import hvplot.pandas\n",
    "import matplotlib.pyplot as plt"
   ]
  },
  {
   "cell_type": "code",
   "execution_count": 39,
   "id": "fe2cd3ab-a16b-4bb8-86df-9f7da9d8bf55",
   "metadata": {},
   "outputs": [],
   "source": [
    "ada_price_engine = sql.create_engine(\"sqlite:///ada_price_data_df.db\")"
   ]
  },
  {
   "cell_type": "code",
   "execution_count": 40,
   "id": "589602bc-6d00-46e8-b70e-f92000eb8c05",
   "metadata": {},
   "outputs": [],
   "source": [
    "ada_tweet_count_engine = sql.create_engine(\"sqlite:///ada_tweet_count_df.db\")"
   ]
  },
  {
   "cell_type": "code",
   "execution_count": 41,
   "id": "e6b2c671-60bc-496b-a46b-59c21750c592",
   "metadata": {},
   "outputs": [],
   "source": [
    "sql_query1 = \"\"\"SELECT Timestamp, Value FROM ada_price_data_df1\"\"\"\n",
    "df1 = pd.read_sql(sql_query1, con=ada_price_engine)\n",
    "sql_query2 = \"\"\"SELECT Timestamp, tweet_count FROM ada_tweet_count_df1\"\"\"\n",
    "df2 = pd.read_sql(sql_query2, con=ada_tweet_count_engine)"
   ]
  },
  {
   "cell_type": "code",
   "execution_count": 42,
   "id": "6626fc92-f359-4d46-868f-932b6ce962ee",
   "metadata": {},
   "outputs": [
    {
     "data": {
      "text/html": [
       "<div>\n",
       "<style scoped>\n",
       "    .dataframe tbody tr th:only-of-type {\n",
       "        vertical-align: middle;\n",
       "    }\n",
       "\n",
       "    .dataframe tbody tr th {\n",
       "        vertical-align: top;\n",
       "    }\n",
       "\n",
       "    .dataframe thead th {\n",
       "        text-align: right;\n",
       "    }\n",
       "</style>\n",
       "<table border=\"1\" class=\"dataframe\">\n",
       "  <thead>\n",
       "    <tr style=\"text-align: right;\">\n",
       "      <th></th>\n",
       "      <th>Timestamp</th>\n",
       "      <th>tweet_count</th>\n",
       "    </tr>\n",
       "  </thead>\n",
       "  <tbody>\n",
       "    <tr>\n",
       "      <th>0</th>\n",
       "      <td>2021-10-03 00:00:00.000000</td>\n",
       "      <td>14641</td>\n",
       "    </tr>\n",
       "    <tr>\n",
       "      <th>1</th>\n",
       "      <td>2021-10-03 01:00:00.000000</td>\n",
       "      <td>21166</td>\n",
       "    </tr>\n",
       "    <tr>\n",
       "      <th>2</th>\n",
       "      <td>2021-10-03 02:00:00.000000</td>\n",
       "      <td>26473</td>\n",
       "    </tr>\n",
       "    <tr>\n",
       "      <th>3</th>\n",
       "      <td>2021-10-03 03:00:00.000000</td>\n",
       "      <td>31949</td>\n",
       "    </tr>\n",
       "    <tr>\n",
       "      <th>4</th>\n",
       "      <td>2021-10-03 04:00:00.000000</td>\n",
       "      <td>35054</td>\n",
       "    </tr>\n",
       "  </tbody>\n",
       "</table>\n",
       "</div>"
      ],
      "text/plain": [
       "                    Timestamp  tweet_count\n",
       "0  2021-10-03 00:00:00.000000        14641\n",
       "1  2021-10-03 01:00:00.000000        21166\n",
       "2  2021-10-03 02:00:00.000000        26473\n",
       "3  2021-10-03 03:00:00.000000        31949\n",
       "4  2021-10-03 04:00:00.000000        35054"
      ]
     },
     "execution_count": 42,
     "metadata": {},
     "output_type": "execute_result"
    }
   ],
   "source": [
    "df2.head()"
   ]
  },
  {
   "cell_type": "code",
   "execution_count": 43,
   "id": "d62c39fb-aa6a-4dba-a659-9767331032bd",
   "metadata": {},
   "outputs": [],
   "source": [
    "merged_df = pd.merge(df1, df2, how=\"left\")"
   ]
  },
  {
   "cell_type": "code",
   "execution_count": 44,
   "id": "fffe1659-faa0-44f9-9a8c-d0d548983ecd",
   "metadata": {},
   "outputs": [
    {
     "data": {
      "text/html": [
       "<div>\n",
       "<style scoped>\n",
       "    .dataframe tbody tr th:only-of-type {\n",
       "        vertical-align: middle;\n",
       "    }\n",
       "\n",
       "    .dataframe tbody tr th {\n",
       "        vertical-align: top;\n",
       "    }\n",
       "\n",
       "    .dataframe thead th {\n",
       "        text-align: right;\n",
       "    }\n",
       "</style>\n",
       "<table border=\"1\" class=\"dataframe\">\n",
       "  <thead>\n",
       "    <tr style=\"text-align: right;\">\n",
       "      <th></th>\n",
       "      <th>Timestamp</th>\n",
       "      <th>Value</th>\n",
       "      <th>tweet_count</th>\n",
       "    </tr>\n",
       "  </thead>\n",
       "  <tbody>\n",
       "    <tr>\n",
       "      <th>0</th>\n",
       "      <td>2021-10-02 16:00:00.000000</td>\n",
       "      <td>2.250</td>\n",
       "      <td>NaN</td>\n",
       "    </tr>\n",
       "    <tr>\n",
       "      <th>1</th>\n",
       "      <td>2021-10-02 17:00:00.000000</td>\n",
       "      <td>2.234</td>\n",
       "      <td>NaN</td>\n",
       "    </tr>\n",
       "    <tr>\n",
       "      <th>2</th>\n",
       "      <td>2021-10-02 18:00:00.000000</td>\n",
       "      <td>2.245</td>\n",
       "      <td>NaN</td>\n",
       "    </tr>\n",
       "    <tr>\n",
       "      <th>3</th>\n",
       "      <td>2021-10-02 19:00:00.000000</td>\n",
       "      <td>2.251</td>\n",
       "      <td>NaN</td>\n",
       "    </tr>\n",
       "    <tr>\n",
       "      <th>4</th>\n",
       "      <td>2021-10-02 20:00:00.000000</td>\n",
       "      <td>2.263</td>\n",
       "      <td>NaN</td>\n",
       "    </tr>\n",
       "  </tbody>\n",
       "</table>\n",
       "</div>"
      ],
      "text/plain": [
       "                    Timestamp  Value  tweet_count\n",
       "0  2021-10-02 16:00:00.000000  2.250          NaN\n",
       "1  2021-10-02 17:00:00.000000  2.234          NaN\n",
       "2  2021-10-02 18:00:00.000000  2.245          NaN\n",
       "3  2021-10-02 19:00:00.000000  2.251          NaN\n",
       "4  2021-10-02 20:00:00.000000  2.263          NaN"
      ]
     },
     "execution_count": 44,
     "metadata": {},
     "output_type": "execute_result"
    }
   ],
   "source": [
    "merged_df.head()"
   ]
  },
  {
   "cell_type": "code",
   "execution_count": 45,
   "id": "5ca4addb-40ee-4fbf-ae45-1fcbca8dd12a",
   "metadata": {},
   "outputs": [],
   "source": [
    "merged_df = merged_df.dropna()"
   ]
  },
  {
   "cell_type": "code",
   "execution_count": 46,
   "id": "d9d25a18-1b9b-4a96-af72-d74dc72b9144",
   "metadata": {},
   "outputs": [
    {
     "data": {
      "text/html": [
       "<div>\n",
       "<style scoped>\n",
       "    .dataframe tbody tr th:only-of-type {\n",
       "        vertical-align: middle;\n",
       "    }\n",
       "\n",
       "    .dataframe tbody tr th {\n",
       "        vertical-align: top;\n",
       "    }\n",
       "\n",
       "    .dataframe thead th {\n",
       "        text-align: right;\n",
       "    }\n",
       "</style>\n",
       "<table border=\"1\" class=\"dataframe\">\n",
       "  <thead>\n",
       "    <tr style=\"text-align: right;\">\n",
       "      <th></th>\n",
       "      <th>Timestamp</th>\n",
       "      <th>Value</th>\n",
       "      <th>tweet_count</th>\n",
       "    </tr>\n",
       "  </thead>\n",
       "  <tbody>\n",
       "    <tr>\n",
       "      <th>8</th>\n",
       "      <td>2021-10-03 00:00:00.000000</td>\n",
       "      <td>2.273</td>\n",
       "      <td>14641.0</td>\n",
       "    </tr>\n",
       "    <tr>\n",
       "      <th>9</th>\n",
       "      <td>2021-10-03 01:00:00.000000</td>\n",
       "      <td>2.280</td>\n",
       "      <td>21166.0</td>\n",
       "    </tr>\n",
       "    <tr>\n",
       "      <th>10</th>\n",
       "      <td>2021-10-03 02:00:00.000000</td>\n",
       "      <td>2.250</td>\n",
       "      <td>26473.0</td>\n",
       "    </tr>\n",
       "    <tr>\n",
       "      <th>11</th>\n",
       "      <td>2021-10-03 03:00:00.000000</td>\n",
       "      <td>2.251</td>\n",
       "      <td>31949.0</td>\n",
       "    </tr>\n",
       "    <tr>\n",
       "      <th>12</th>\n",
       "      <td>2021-10-03 04:00:00.000000</td>\n",
       "      <td>2.277</td>\n",
       "      <td>35054.0</td>\n",
       "    </tr>\n",
       "  </tbody>\n",
       "</table>\n",
       "</div>"
      ],
      "text/plain": [
       "                     Timestamp  Value  tweet_count\n",
       "8   2021-10-03 00:00:00.000000  2.273      14641.0\n",
       "9   2021-10-03 01:00:00.000000  2.280      21166.0\n",
       "10  2021-10-03 02:00:00.000000  2.250      26473.0\n",
       "11  2021-10-03 03:00:00.000000  2.251      31949.0\n",
       "12  2021-10-03 04:00:00.000000  2.277      35054.0"
      ]
     },
     "execution_count": 46,
     "metadata": {},
     "output_type": "execute_result"
    }
   ],
   "source": [
    "merged_df.head()"
   ]
  },
  {
   "cell_type": "code",
   "execution_count": 55,
   "id": "8d6ad067-3111-4f5d-b299-98cbfe2a5fc2",
   "metadata": {},
   "outputs": [
    {
     "name": "stderr",
     "output_type": "stream",
     "text": [
      "No handles with labels found to put in legend.\n"
     ]
    },
    {
     "data": {
      "image/png": "[encoded data removed]",
      "text/plain": [
       "<Figure size 432x288 with 2 Axes>"
      ]
     },
     "metadata": {
      "needs_background": "light"
     },
     "output_type": "display_data"
    },
    {
     "data": {
      "text/plain": [
       "<Figure size 864x432 with 0 Axes>"
      ]
     },
     "metadata": {},
     "output_type": "display_data"
    }
   ],
   "source": [
    "fig, ax_data = plt.subplots()\n",
    "\n",
    "fig = plt.figure(figsize=(12,6))\n",
    "\n",
    "ax_data.set_xlabel(\"Timestamp\")\n",
    "\n",
    "ax_data.tick_params(axis=\"x\", bottom=False, labelbottom=False)\n",
    "\n",
    "ax_data.set_ylabel(\"Value\", color=\"red\", size=\"x-large\")\n",
    "\n",
    "ax_data.tick_params(axis=\"y\", labelcolor=\"red\", labelsize=\"large\")\n",
    "\n",
    "ax_data.plot(merged_df[\"Timestamp\"], merged_df[\"Value\"], color=\"red\")\n",
    "\n",
    "ax_tweet_count = ax_data.twinx()\n",
    "ax_tweet_count.set_ylabel(\"Tweet Count\", color=\"blue\", size=\"x-large\")\n",
    "\n",
    "ax_tweet_count.tick_params(axis=\"y\", labelcolor=\"blue\", labelsize=\"large\")\n",
    "ax_tweet_count.plot(merged_df[\"Timestamp\"], merged_df[\"tweet_count\"], color=\"blue\")\n",
    "\n",
    "fig.legend(loc=1, bbox_to_anchor=(1,1), bbox_transform=ax_data.transAxes)\n",
    "\n",
    "plt.show()"
   ]
  },
  {
   "cell_type": "code",
   "execution_count": 102,
   "id": "beaee6ab-5876-47a1-9040-84be23eccb07",
   "metadata": {},
   "outputs": [
    {
     "data": {
      "text/html": [
       "<div>\n",
       "<style scoped>\n",
       "    .dataframe tbody tr th:only-of-type {\n",
       "        vertical-align: middle;\n",
       "    }\n",
       "\n",
       "    .dataframe tbody tr th {\n",
       "        vertical-align: top;\n",
       "    }\n",
       "\n",
       "    .dataframe thead th {\n",
       "        text-align: right;\n",
       "    }\n",
       "</style>\n",
       "<table border=\"1\" class=\"dataframe\">\n",
       "  <thead>\n",
       "    <tr style=\"text-align: right;\">\n",
       "      <th></th>\n",
       "      <th>Value</th>\n",
       "      <th>tweet_count</th>\n",
       "    </tr>\n",
       "  </thead>\n",
       "  <tbody>\n",
       "    <tr>\n",
       "      <th>count</th>\n",
       "      <td>163.000000</td>\n",
       "      <td>163.000000</td>\n",
       "    </tr>\n",
       "    <tr>\n",
       "      <th>mean</th>\n",
       "      <td>51758.942086</td>\n",
       "      <td>21888.171779</td>\n",
       "    </tr>\n",
       "    <tr>\n",
       "      <th>std</th>\n",
       "      <td>2896.508466</td>\n",
       "      <td>6907.328904</td>\n",
       "    </tr>\n",
       "    <tr>\n",
       "      <th>min</th>\n",
       "      <td>47309.440000</td>\n",
       "      <td>9134.000000</td>\n",
       "    </tr>\n",
       "    <tr>\n",
       "      <th>25%</th>\n",
       "      <td>48932.165000</td>\n",
       "      <td>17007.500000</td>\n",
       "    </tr>\n",
       "    <tr>\n",
       "      <th>50%</th>\n",
       "      <td>51559.970000</td>\n",
       "      <td>20521.000000</td>\n",
       "    </tr>\n",
       "    <tr>\n",
       "      <th>75%</th>\n",
       "      <td>54555.315000</td>\n",
       "      <td>25319.500000</td>\n",
       "    </tr>\n",
       "    <tr>\n",
       "      <th>max</th>\n",
       "      <td>55823.610000</td>\n",
       "      <td>60330.000000</td>\n",
       "    </tr>\n",
       "  </tbody>\n",
       "</table>\n",
       "</div>"
      ],
      "text/plain": [
       "              Value   tweet_count\n",
       "count    163.000000    163.000000\n",
       "mean   51758.942086  21888.171779\n",
       "std     2896.508466   6907.328904\n",
       "min    47309.440000   9134.000000\n",
       "25%    48932.165000  17007.500000\n",
       "50%    51559.970000  20521.000000\n",
       "75%    54555.315000  25319.500000\n",
       "max    55823.610000  60330.000000"
      ]
     },
     "execution_count": 102,
     "metadata": {},
     "output_type": "execute_result"
    }
   ],
   "source": [
    "merged_df.describe()"
   ]
  },
  {
   "cell_type": "code",
   "execution_count": 56,
   "id": "8a69d7ac-0c9d-4a40-b344-44ad149958f7",
   "metadata": {},
   "outputs": [
    {
     "data": {
      "text/plain": [
       "8           NaN\n",
       "9      0.003080\n",
       "10    -0.013158\n",
       "11     0.000444\n",
       "12     0.011550\n",
       "         ...   \n",
       "164   -0.002199\n",
       "165   -0.001322\n",
       "166    0.004413\n",
       "167   -0.003076\n",
       "168    0.001322\n",
       "Name: Value, Length: 161, dtype: float64"
      ]
     },
     "execution_count": 56,
     "metadata": {},
     "output_type": "execute_result"
    }
   ],
   "source": [
    "merged_df[\"Value\"].pct_change()"
   ]
  },
  {
   "cell_type": "code",
   "execution_count": 57,
   "id": "6c04e9db-32bf-4829-b9ed-c97a0c0e3e1c",
   "metadata": {},
   "outputs": [
    {
     "data": {
      "text/plain": [
       "8           NaN\n",
       "9      0.445666\n",
       "10     0.250732\n",
       "11     0.206852\n",
       "12     0.097186\n",
       "         ...   \n",
       "164    0.119723\n",
       "165    0.062524\n",
       "166    0.039364\n",
       "167   -0.002773\n",
       "168   -0.056755\n",
       "Name: tweet_count, Length: 161, dtype: float64"
      ]
     },
     "execution_count": 57,
     "metadata": {},
     "output_type": "execute_result"
    }
   ],
   "source": [
    "merged_df[\"tweet_count\"].pct_change()"
   ]
  },
  {
   "cell_type": "code",
   "execution_count": 58,
   "id": "2cf1a5e8-e6d0-476e-b058-dec7624638b9",
   "metadata": {},
   "outputs": [
    {
     "data": {
      "text/html": [
       "<div>\n",
       "<style scoped>\n",
       "    .dataframe tbody tr th:only-of-type {\n",
       "        vertical-align: middle;\n",
       "    }\n",
       "\n",
       "    .dataframe tbody tr th {\n",
       "        vertical-align: top;\n",
       "    }\n",
       "\n",
       "    .dataframe thead th {\n",
       "        text-align: right;\n",
       "    }\n",
       "</style>\n",
       "<table border=\"1\" class=\"dataframe\">\n",
       "  <thead>\n",
       "    <tr style=\"text-align: right;\">\n",
       "      <th></th>\n",
       "      <th>Value</th>\n",
       "      <th>tweet_count</th>\n",
       "    </tr>\n",
       "  </thead>\n",
       "  <tbody>\n",
       "    <tr>\n",
       "      <th>Value</th>\n",
       "      <td>1.000000</td>\n",
       "      <td>0.181308</td>\n",
       "    </tr>\n",
       "    <tr>\n",
       "      <th>tweet_count</th>\n",
       "      <td>0.181308</td>\n",
       "      <td>1.000000</td>\n",
       "    </tr>\n",
       "  </tbody>\n",
       "</table>\n",
       "</div>"
      ],
      "text/plain": [
       "                Value  tweet_count\n",
       "Value        1.000000     0.181308\n",
       "tweet_count  0.181308     1.000000"
      ]
     },
     "execution_count": 58,
     "metadata": {},
     "output_type": "execute_result"
    }
   ],
   "source": [
    "merged_df.corr()"
   ]
  },
  {
   "cell_type": "code",
   "execution_count": null,
   "id": "736d9c4a-90f1-49cc-acc4-76997e44ed10",
   "metadata": {},
   "outputs": [],
   "source": []
  }
 ],
 "metadata": {
  "kernelspec": {
   "display_name": "dev",
   "language": "python",
   "name": "dev"
  },
  "language_info": {
   "codemirror_mode": {
    "name": "ipython",
    "version": 3
   },
   "file_extension": ".py",
   "mimetype": "text/x-python",
   "name": "python",
   "nbconvert_exporter": "python",
   "pygments_lexer": "ipython3",
   "version": "3.7.10"
  }
 },
 "nbformat": 4,
 "nbformat_minor": 5
}
