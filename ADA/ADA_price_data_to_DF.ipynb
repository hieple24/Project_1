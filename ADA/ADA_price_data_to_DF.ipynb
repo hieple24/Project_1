{
 "cells": [
  {
   "cell_type": "code",
   "execution_count": 72,
   "id": "95c26ec8-7ece-4443-b024-cdc115e3a1b0",
   "metadata": {},
   "outputs": [],
   "source": [
    "import json\n",
    "import pandas as pd\n",
    "import csv\n",
    "from pathlib import Path\n",
    "import sqlalchemy as sql\n",
    "from sqlalchemy import create_engine\n"
   ]
  },
  {
   "cell_type": "code",
   "execution_count": 73,
   "id": "b97bf457-71a5-4842-9c0e-2b628c8a9e6c",
   "metadata": {},
   "outputs": [],
   "source": [
    "ADA_price_data_df = pd.read_csv(Path(\"ADA_Data.csv\"))"
   ]
  },
  {
   "cell_type": "code",
   "execution_count": 74,
   "id": "072a8732-a136-4ee1-9b57-11f1932f3382",
   "metadata": {},
   "outputs": [
    {
     "data": {
      "text/html": [
       "<div>\n",
       "<style scoped>\n",
       "    .dataframe tbody tr th:only-of-type {\n",
       "        vertical-align: middle;\n",
       "    }\n",
       "\n",
       "    .dataframe tbody tr th {\n",
       "        vertical-align: top;\n",
       "    }\n",
       "\n",
       "    .dataframe thead th {\n",
       "        text-align: right;\n",
       "    }\n",
       "</style>\n",
       "<table border=\"1\" class=\"dataframe\">\n",
       "  <thead>\n",
       "    <tr style=\"text-align: right;\">\n",
       "      <th></th>\n",
       "      <th>Timestamp</th>\n",
       "      <th>Value</th>\n",
       "    </tr>\n",
       "  </thead>\n",
       "  <tbody>\n",
       "    <tr>\n",
       "      <th>0</th>\n",
       "      <td>10/02/2021, 16:00:00</td>\n",
       "      <td>2.250</td>\n",
       "    </tr>\n",
       "    <tr>\n",
       "      <th>1</th>\n",
       "      <td>10/02/2021, 17:00:00</td>\n",
       "      <td>2.234</td>\n",
       "    </tr>\n",
       "    <tr>\n",
       "      <th>2</th>\n",
       "      <td>10/02/2021, 18:00:00</td>\n",
       "      <td>2.245</td>\n",
       "    </tr>\n",
       "    <tr>\n",
       "      <th>3</th>\n",
       "      <td>10/02/2021, 19:00:00</td>\n",
       "      <td>2.251</td>\n",
       "    </tr>\n",
       "    <tr>\n",
       "      <th>4</th>\n",
       "      <td>10/02/2021, 20:00:00</td>\n",
       "      <td>2.263</td>\n",
       "    </tr>\n",
       "  </tbody>\n",
       "</table>\n",
       "</div>"
      ],
      "text/plain": [
       "              Timestamp  Value\n",
       "0  10/02/2021, 16:00:00  2.250\n",
       "1  10/02/2021, 17:00:00  2.234\n",
       "2  10/02/2021, 18:00:00  2.245\n",
       "3  10/02/2021, 19:00:00  2.251\n",
       "4  10/02/2021, 20:00:00  2.263"
      ]
     },
     "execution_count": 74,
     "metadata": {},
     "output_type": "execute_result"
    }
   ],
   "source": [
    "ADA_price_data_df.head()"
   ]
  },
  {
   "cell_type": "code",
   "execution_count": 75,
   "id": "90d6bcd9-258c-44d3-ae02-193974277315",
   "metadata": {},
   "outputs": [],
   "source": [
    "ADA_price_data_df[\"Timestamp\"] = pd.to_datetime(ADA_price_data_df[\"Timestamp\"])"
   ]
  },
  {
   "cell_type": "code",
   "execution_count": 76,
   "id": "92e0c51d-7ba7-4fe0-a86a-045311cf66ef",
   "metadata": {},
   "outputs": [
    {
     "data": {
      "text/html": [
       "<div>\n",
       "<style scoped>\n",
       "    .dataframe tbody tr th:only-of-type {\n",
       "        vertical-align: middle;\n",
       "    }\n",
       "\n",
       "    .dataframe tbody tr th {\n",
       "        vertical-align: top;\n",
       "    }\n",
       "\n",
       "    .dataframe thead th {\n",
       "        text-align: right;\n",
       "    }\n",
       "</style>\n",
       "<table border=\"1\" class=\"dataframe\">\n",
       "  <thead>\n",
       "    <tr style=\"text-align: right;\">\n",
       "      <th></th>\n",
       "      <th>Timestamp</th>\n",
       "      <th>Value</th>\n",
       "    </tr>\n",
       "  </thead>\n",
       "  <tbody>\n",
       "    <tr>\n",
       "      <th>0</th>\n",
       "      <td>2021-10-02 16:00:00</td>\n",
       "      <td>2.250</td>\n",
       "    </tr>\n",
       "    <tr>\n",
       "      <th>1</th>\n",
       "      <td>2021-10-02 17:00:00</td>\n",
       "      <td>2.234</td>\n",
       "    </tr>\n",
       "    <tr>\n",
       "      <th>2</th>\n",
       "      <td>2021-10-02 18:00:00</td>\n",
       "      <td>2.245</td>\n",
       "    </tr>\n",
       "    <tr>\n",
       "      <th>3</th>\n",
       "      <td>2021-10-02 19:00:00</td>\n",
       "      <td>2.251</td>\n",
       "    </tr>\n",
       "    <tr>\n",
       "      <th>4</th>\n",
       "      <td>2021-10-02 20:00:00</td>\n",
       "      <td>2.263</td>\n",
       "    </tr>\n",
       "  </tbody>\n",
       "</table>\n",
       "</div>"
      ],
      "text/plain": [
       "            Timestamp  Value\n",
       "0 2021-10-02 16:00:00  2.250\n",
       "1 2021-10-02 17:00:00  2.234\n",
       "2 2021-10-02 18:00:00  2.245\n",
       "3 2021-10-02 19:00:00  2.251\n",
       "4 2021-10-02 20:00:00  2.263"
      ]
     },
     "execution_count": 76,
     "metadata": {},
     "output_type": "execute_result"
    }
   ],
   "source": [
    "ADA_price_data_df.head()"
   ]
  },
  {
   "cell_type": "code",
   "execution_count": 77,
   "id": "3a2f954b-7156-427b-a013-1bbdb5f98737",
   "metadata": {},
   "outputs": [],
   "source": [
    "engine = create_engine(\"sqlite:///ADA_price_data_df.db\", echo=True)\n",
    "sqlite_connection = engine.connect()"
   ]
  },
  {
   "cell_type": "code",
   "execution_count": 78,
   "id": "1c6d6793-3b77-4313-b03e-9fe63e8fac0e",
   "metadata": {},
   "outputs": [
    {
     "name": "stdout",
     "output_type": "stream",
     "text": [
      "2021-10-09 16:16:05,480 INFO sqlalchemy.engine.Engine PRAGMA main.table_info(\"ADA_price_data_df1\")\n",
      "2021-10-09 16:16:05,481 INFO sqlalchemy.engine.Engine [raw sql] ()\n",
      "2021-10-09 16:16:05,484 INFO sqlalchemy.engine.Engine PRAGMA temp.table_info(\"ADA_price_data_df1\")\n",
      "2021-10-09 16:16:05,485 INFO sqlalchemy.engine.Engine [raw sql] ()\n",
      "2021-10-09 16:16:05,487 INFO sqlalchemy.engine.Engine \n",
      "CREATE TABLE \"ADA_price_data_df1\" (\n",
      "\t\"index\" BIGINT, \n",
      "\t\"Timestamp\" DATETIME, \n",
      "\t\"Value\" FLOAT\n",
      ")\n",
      "\n",
      "\n",
      "2021-10-09 16:16:05,489 INFO sqlalchemy.engine.Engine [no key 0.00146s] ()\n",
      "2021-10-09 16:16:05,494 INFO sqlalchemy.engine.Engine COMMIT\n",
      "2021-10-09 16:16:05,495 INFO sqlalchemy.engine.Engine CREATE INDEX \"ix_ADA_price_data_df1_index\" ON \"ADA_price_data_df1\" (\"index\")\n",
      "2021-10-09 16:16:05,496 INFO sqlalchemy.engine.Engine [no key 0.00063s] ()\n",
      "2021-10-09 16:16:05,500 INFO sqlalchemy.engine.Engine COMMIT\n",
      "2021-10-09 16:16:05,503 INFO sqlalchemy.engine.Engine BEGIN (implicit)\n",
      "2021-10-09 16:16:05,505 INFO sqlalchemy.engine.Engine INSERT INTO \"ADA_price_data_df1\" (\"index\", \"Timestamp\", \"Value\") VALUES (?, ?, ?)\n",
      "2021-10-09 16:16:05,506 INFO sqlalchemy.engine.Engine [generated in 0.00238s] ((0, '2021-10-02 16:00:00.000000', 2.25), (1, '2021-10-02 17:00:00.000000', 2.234), (2, '2021-10-02 18:00:00.000000', 2.245), (3, '2021-10-02 19:00:00.000000', 2.251), (4, '2021-10-02 20:00:00.000000', 2.263), (5, '2021-10-02 21:00:00.000000', 2.261), (6, '2021-10-02 22:00:00.000000', 2.274), (7, '2021-10-02 23:00:00.000000', 2.281)  ... displaying 10 of 169 total bound parameter sets ...  (167, '2021-10-09 15:00:00.000000', 2.269), (168, '2021-10-09 16:00:00.000000', 2.272))\n",
      "2021-10-09 16:16:05,509 INFO sqlalchemy.engine.Engine COMMIT\n",
      "2021-10-09 16:16:05,513 INFO sqlalchemy.engine.Engine SELECT name FROM sqlite_master WHERE type='table' ORDER BY name\n",
      "2021-10-09 16:16:05,513 INFO sqlalchemy.engine.Engine [raw sql] ()\n"
     ]
    }
   ],
   "source": [
    "sqlite_table = \"ADA_price_data_df1\"\n",
    "ADA_price_data_df.to_sql(sqlite_table, sqlite_connection, if_exists=\"fail\")"
   ]
  },
  {
   "cell_type": "code",
   "execution_count": null,
   "id": "b577a4f4-7fcf-4e4a-bb2a-3dff11ccda24",
   "metadata": {},
   "outputs": [],
   "source": []
  }
 ],
 "metadata": {
  "kernelspec": {
   "display_name": "dev",
   "language": "python",
   "name": "dev"
  },
  "language_info": {
   "codemirror_mode": {
    "name": "ipython",
    "version": 3
   },
   "file_extension": ".py",
   "mimetype": "text/x-python",
   "name": "python",
   "nbconvert_exporter": "python",
   "pygments_lexer": "ipython3",
   "version": "3.7.10"
  }
 },
 "nbformat": 4,
 "nbformat_minor": 5
}
