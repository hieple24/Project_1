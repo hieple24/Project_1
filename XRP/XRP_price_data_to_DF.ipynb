{
 "cells": [
  {
   "cell_type": "code",
   "execution_count": 40,
   "id": "95c26ec8-7ece-4443-b024-cdc115e3a1b0",
   "metadata": {},
   "outputs": [],
   "source": [
    "import json\n",
    "import pandas as pd\n",
    "import csv\n",
    "from pathlib import Path\n",
    "import sqlalchemy as sql\n",
    "from sqlalchemy import create_engine\n"
   ]
  },
  {
   "cell_type": "code",
   "execution_count": 49,
   "id": "b97bf457-71a5-4842-9c0e-2b628c8a9e6c",
   "metadata": {},
   "outputs": [],
   "source": [
    "XRP_price_data_df = pd.read_csv(Path(\"XRP_Data.csv\"))"
   ]
  },
  {
   "cell_type": "code",
   "execution_count": 53,
   "id": "072a8732-a136-4ee1-9b57-11f1932f3382",
   "metadata": {},
   "outputs": [
    {
     "data": {
      "text/html": [
       "<div>\n",
       "<style scoped>\n",
       "    .dataframe tbody tr th:only-of-type {\n",
       "        vertical-align: middle;\n",
       "    }\n",
       "\n",
       "    .dataframe tbody tr th {\n",
       "        vertical-align: top;\n",
       "    }\n",
       "\n",
       "    .dataframe thead th {\n",
       "        text-align: right;\n",
       "    }\n",
       "</style>\n",
       "<table border=\"1\" class=\"dataframe\">\n",
       "  <thead>\n",
       "    <tr style=\"text-align: right;\">\n",
       "      <th></th>\n",
       "      <th>Timestamp</th>\n",
       "      <th>Value</th>\n",
       "    </tr>\n",
       "  </thead>\n",
       "  <tbody>\n",
       "    <tr>\n",
       "      <th>0</th>\n",
       "      <td>10/02/2021, 15:00:00</td>\n",
       "      <td>1.055</td>\n",
       "    </tr>\n",
       "    <tr>\n",
       "      <th>1</th>\n",
       "      <td>10/02/2021, 16:00:00</td>\n",
       "      <td>1.037</td>\n",
       "    </tr>\n",
       "    <tr>\n",
       "      <th>2</th>\n",
       "      <td>10/02/2021, 17:00:00</td>\n",
       "      <td>1.030</td>\n",
       "    </tr>\n",
       "    <tr>\n",
       "      <th>3</th>\n",
       "      <td>10/02/2021, 18:00:00</td>\n",
       "      <td>1.037</td>\n",
       "    </tr>\n",
       "    <tr>\n",
       "      <th>4</th>\n",
       "      <td>10/02/2021, 19:00:00</td>\n",
       "      <td>1.042</td>\n",
       "    </tr>\n",
       "  </tbody>\n",
       "</table>\n",
       "</div>"
      ],
      "text/plain": [
       "              Timestamp  Value\n",
       "0  10/02/2021, 15:00:00  1.055\n",
       "1  10/02/2021, 16:00:00  1.037\n",
       "2  10/02/2021, 17:00:00  1.030\n",
       "3  10/02/2021, 18:00:00  1.037\n",
       "4  10/02/2021, 19:00:00  1.042"
      ]
     },
     "execution_count": 53,
     "metadata": {},
     "output_type": "execute_result"
    }
   ],
   "source": [
    "XRP_price_data_df.head()"
   ]
  },
  {
   "cell_type": "code",
   "execution_count": 54,
   "id": "90d6bcd9-258c-44d3-ae02-193974277315",
   "metadata": {},
   "outputs": [],
   "source": [
    "XRP_price_data_df[\"Timestamp\"] = pd.to_datetime(XRP_price_data_df[\"Timestamp\"])"
   ]
  },
  {
   "cell_type": "code",
   "execution_count": 55,
   "id": "92e0c51d-7ba7-4fe0-a86a-045311cf66ef",
   "metadata": {},
   "outputs": [
    {
     "data": {
      "text/html": [
       "<div>\n",
       "<style scoped>\n",
       "    .dataframe tbody tr th:only-of-type {\n",
       "        vertical-align: middle;\n",
       "    }\n",
       "\n",
       "    .dataframe tbody tr th {\n",
       "        vertical-align: top;\n",
       "    }\n",
       "\n",
       "    .dataframe thead th {\n",
       "        text-align: right;\n",
       "    }\n",
       "</style>\n",
       "<table border=\"1\" class=\"dataframe\">\n",
       "  <thead>\n",
       "    <tr style=\"text-align: right;\">\n",
       "      <th></th>\n",
       "      <th>Timestamp</th>\n",
       "      <th>Value</th>\n",
       "    </tr>\n",
       "  </thead>\n",
       "  <tbody>\n",
       "    <tr>\n",
       "      <th>0</th>\n",
       "      <td>2021-10-02 15:00:00</td>\n",
       "      <td>1.055</td>\n",
       "    </tr>\n",
       "    <tr>\n",
       "      <th>1</th>\n",
       "      <td>2021-10-02 16:00:00</td>\n",
       "      <td>1.037</td>\n",
       "    </tr>\n",
       "    <tr>\n",
       "      <th>2</th>\n",
       "      <td>2021-10-02 17:00:00</td>\n",
       "      <td>1.030</td>\n",
       "    </tr>\n",
       "    <tr>\n",
       "      <th>3</th>\n",
       "      <td>2021-10-02 18:00:00</td>\n",
       "      <td>1.037</td>\n",
       "    </tr>\n",
       "    <tr>\n",
       "      <th>4</th>\n",
       "      <td>2021-10-02 19:00:00</td>\n",
       "      <td>1.042</td>\n",
       "    </tr>\n",
       "  </tbody>\n",
       "</table>\n",
       "</div>"
      ],
      "text/plain": [
       "            Timestamp  Value\n",
       "0 2021-10-02 15:00:00  1.055\n",
       "1 2021-10-02 16:00:00  1.037\n",
       "2 2021-10-02 17:00:00  1.030\n",
       "3 2021-10-02 18:00:00  1.037\n",
       "4 2021-10-02 19:00:00  1.042"
      ]
     },
     "execution_count": 55,
     "metadata": {},
     "output_type": "execute_result"
    }
   ],
   "source": [
    "XRP_price_data_df.head()"
   ]
  },
  {
   "cell_type": "code",
   "execution_count": 56,
   "id": "3a2f954b-7156-427b-a013-1bbdb5f98737",
   "metadata": {},
   "outputs": [],
   "source": [
    "engine = create_engine(\"sqlite:///XRP_price_data_df.db\", echo=True)\n",
    "sqlite_connection = engine.connect()"
   ]
  },
  {
   "cell_type": "code",
   "execution_count": 57,
   "id": "1c6d6793-3b77-4313-b03e-9fe63e8fac0e",
   "metadata": {},
   "outputs": [
    {
     "name": "stdout",
     "output_type": "stream",
     "text": [
      "2021-10-09 15:45:27,086 INFO sqlalchemy.engine.Engine PRAGMA main.table_info(\"XRP_price_data_df3\")\n",
      "2021-10-09 15:45:27,087 INFO sqlalchemy.engine.Engine [raw sql] ()\n",
      "2021-10-09 15:45:27,089 INFO sqlalchemy.engine.Engine PRAGMA temp.table_info(\"XRP_price_data_df3\")\n",
      "2021-10-09 15:45:27,089 INFO sqlalchemy.engine.Engine [raw sql] ()\n",
      "2021-10-09 15:45:27,092 INFO sqlalchemy.engine.Engine \n",
      "CREATE TABLE \"XRP_price_data_df3\" (\n",
      "\t\"index\" BIGINT, \n",
      "\t\"Timestamp\" DATETIME, \n",
      "\t\"Value\" FLOAT\n",
      ")\n",
      "\n",
      "\n",
      "2021-10-09 15:45:27,093 INFO sqlalchemy.engine.Engine [no key 0.00074s] ()\n",
      "2021-10-09 15:45:27,098 INFO sqlalchemy.engine.Engine COMMIT\n",
      "2021-10-09 15:45:27,099 INFO sqlalchemy.engine.Engine CREATE INDEX \"ix_XRP_price_data_df3_index\" ON \"XRP_price_data_df3\" (\"index\")\n",
      "2021-10-09 15:45:27,100 INFO sqlalchemy.engine.Engine [no key 0.00079s] ()\n",
      "2021-10-09 15:45:27,105 INFO sqlalchemy.engine.Engine COMMIT\n",
      "2021-10-09 15:45:27,107 INFO sqlalchemy.engine.Engine BEGIN (implicit)\n",
      "2021-10-09 15:45:27,109 INFO sqlalchemy.engine.Engine INSERT INTO \"XRP_price_data_df3\" (\"index\", \"Timestamp\", \"Value\") VALUES (?, ?, ?)\n",
      "2021-10-09 15:45:27,111 INFO sqlalchemy.engine.Engine [generated in 0.00284s] ((0, '2021-10-02 15:00:00.000000', 1.055), (1, '2021-10-02 16:00:00.000000', 1.037), (2, '2021-10-02 17:00:00.000000', 1.03), (3, '2021-10-02 18:00:00.000000', 1.037), (4, '2021-10-02 19:00:00.000000', 1.042), (5, '2021-10-02 20:00:00.000000', 1.043), (6, '2021-10-02 21:00:00.000000', 1.044), (7, '2021-10-02 22:00:00.000000', 1.05)  ... displaying 10 of 169 total bound parameter sets ...  (167, '2021-10-09 14:00:00.000000', 1.171), (168, '2021-10-09 15:00:00.000000', 1.166))\n",
      "2021-10-09 15:45:27,113 INFO sqlalchemy.engine.Engine COMMIT\n",
      "2021-10-09 15:45:27,118 INFO sqlalchemy.engine.Engine SELECT name FROM sqlite_master WHERE type='table' ORDER BY name\n",
      "2021-10-09 15:45:27,119 INFO sqlalchemy.engine.Engine [raw sql] ()\n"
     ]
    }
   ],
   "source": [
    "sqlite_table = \"XRP_price_data_df3\"\n",
    "XRP_price_data_df.to_sql(sqlite_table, sqlite_connection, if_exists=\"fail\")"
   ]
  },
  {
   "cell_type": "code",
   "execution_count": null,
   "id": "b577a4f4-7fcf-4e4a-bb2a-3dff11ccda24",
   "metadata": {},
   "outputs": [],
   "source": []
  }
 ],
 "metadata": {
  "kernelspec": {
   "display_name": "dev",
   "language": "python",
   "name": "dev"
  },
  "language_info": {
   "codemirror_mode": {
    "name": "ipython",
    "version": 3
   },
   "file_extension": ".py",
   "mimetype": "text/x-python",
   "name": "python",
   "nbconvert_exporter": "python",
   "pygments_lexer": "ipython3",
   "version": "3.7.10"
  }
 },
 "nbformat": 4,
 "nbformat_minor": 5
}
