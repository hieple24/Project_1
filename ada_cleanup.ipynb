{
 "cells": [
  {
   "cell_type": "code",
   "execution_count": 1,
   "id": "1c9e2ce3-cf60-4533-a877-9ccfa0c2b745",
   "metadata": {},
   "outputs": [],
   "source": [
    "# Import modules\n",
    "import pandas as pd\n",
    "from pathlib import Path\n",
    "import json\n",
    "from datetime import date\n",
    "\n",
    "today = date.today()"
   ]
  },
  {
   "cell_type": "code",
   "execution_count": 2,
   "id": "1fe15f05-2444-4fe7-9473-9155b439995f",
   "metadata": {},
   "outputs": [],
   "source": [
    "# Create path variables for each file\n",
    "file1_path = Path('./cleaned/ada_tweets_all.csv')\n",
    "file2_path = Path('./#ada_data_2021-10-08.csv')\n",
    "file3_path = Path('./#ada_data_2021-10-09.csv')\n",
    "file4_path = Path('./#ada_data_2021-10-10.csv')\n",
    "file5_path = Path('./cardano_data_2021-10-08.csv')\n",
    "file6_path = Path('./cardano_data_2021-10-09.csv')\n",
    "file7_path = Path('./cardano_data_2021-10-10.csv')\n"
   ]
  },
  {
   "cell_type": "code",
   "execution_count": 3,
   "id": "d5a6d2ba-1ab6-474d-91b5-a6a663d1e7ad",
   "metadata": {},
   "outputs": [
    {
     "name": "stderr",
     "output_type": "stream",
     "text": [
      "C:\\Users\\dcmar\\.conda\\envs\\dev\\lib\\site-packages\\IPython\\core\\interactiveshell.py:3166: DtypeWarning: Columns (9) have mixed types.Specify dtype option on import or set low_memory=False.\n",
      "  interactivity=interactivity, compiler=compiler, result=result)\n"
     ]
    },
    {
     "data": {
      "text/html": [
       "<div>\n",
       "<style scoped>\n",
       "    .dataframe tbody tr th:only-of-type {\n",
       "        vertical-align: middle;\n",
       "    }\n",
       "\n",
       "    .dataframe tbody tr th {\n",
       "        vertical-align: top;\n",
       "    }\n",
       "\n",
       "    .dataframe thead th {\n",
       "        text-align: right;\n",
       "    }\n",
       "</style>\n",
       "<table border=\"1\" class=\"dataframe\">\n",
       "  <thead>\n",
       "    <tr style=\"text-align: right;\">\n",
       "      <th></th>\n",
       "      <th>id</th>\n",
       "      <th>conversation_id</th>\n",
       "      <th>created_at</th>\n",
       "      <th>date</th>\n",
       "      <th>time</th>\n",
       "      <th>tweet</th>\n",
       "      <th>hashtags</th>\n",
       "    </tr>\n",
       "  </thead>\n",
       "  <tbody>\n",
       "    <tr>\n",
       "      <th>0</th>\n",
       "      <td>1446517541132771330</td>\n",
       "      <td>1446487092276576267</td>\n",
       "      <td>2021-10-08 09:47:11 Pacific Daylight Time</td>\n",
       "      <td>2021-10-08</td>\n",
       "      <td>09:47:11</td>\n",
       "      <td>@GyroCryptoBTC @cardano_beers Dc  GaboAP#5789 ...</td>\n",
       "      <td>[]</td>\n",
       "    </tr>\n",
       "    <tr>\n",
       "      <th>1</th>\n",
       "      <td>1446517506932285440</td>\n",
       "      <td>1446517506932285440</td>\n",
       "      <td>2021-10-08 09:47:03 Pacific Daylight Time</td>\n",
       "      <td>2021-10-08</td>\n",
       "      <td>09:47:03</td>\n",
       "      <td>An $EGLD backed stablecoin on #cardano is in t...</td>\n",
       "      <td>['cardano']</td>\n",
       "    </tr>\n",
       "    <tr>\n",
       "      <th>2</th>\n",
       "      <td>1446517494122893316</td>\n",
       "      <td>1446517494122893316</td>\n",
       "      <td>2021-10-08 09:47:00 Pacific Daylight Time</td>\n",
       "      <td>2021-10-08</td>\n",
       "      <td>09:47:00</td>\n",
       "      <td>#Cardano's Emurgo Taps Into The African Market...</td>\n",
       "      <td>['cardano', 'ada']</td>\n",
       "    </tr>\n",
       "    <tr>\n",
       "      <th>3</th>\n",
       "      <td>1446517443208237056</td>\n",
       "      <td>1446517443208237056</td>\n",
       "      <td>2021-10-08 09:46:48 Pacific Daylight Time</td>\n",
       "      <td>2021-10-08</td>\n",
       "      <td>09:46:48</td>\n",
       "      <td>An $EGLD backed stablecoin on #cardano is in t...</td>\n",
       "      <td>['cardano']</td>\n",
       "    </tr>\n",
       "    <tr>\n",
       "      <th>4</th>\n",
       "      <td>1446517312622899202</td>\n",
       "      <td>1446517312622899202</td>\n",
       "      <td>2021-10-08 09:46:16 Pacific Daylight Time</td>\n",
       "      <td>2021-10-08</td>\n",
       "      <td>09:46:16</td>\n",
       "      <td>What's the best defi on #Cardano at the moment??</td>\n",
       "      <td>['cardano']</td>\n",
       "    </tr>\n",
       "  </tbody>\n",
       "</table>\n",
       "</div>"
      ],
      "text/plain": [
       "                    id      conversation_id  \\\n",
       "0  1446517541132771330  1446487092276576267   \n",
       "1  1446517506932285440  1446517506932285440   \n",
       "2  1446517494122893316  1446517494122893316   \n",
       "3  1446517443208237056  1446517443208237056   \n",
       "4  1446517312622899202  1446517312622899202   \n",
       "\n",
       "                                  created_at        date      time  \\\n",
       "0  2021-10-08 09:47:11 Pacific Daylight Time  2021-10-08  09:47:11   \n",
       "1  2021-10-08 09:47:03 Pacific Daylight Time  2021-10-08  09:47:03   \n",
       "2  2021-10-08 09:47:00 Pacific Daylight Time  2021-10-08  09:47:00   \n",
       "3  2021-10-08 09:46:48 Pacific Daylight Time  2021-10-08  09:46:48   \n",
       "4  2021-10-08 09:46:16 Pacific Daylight Time  2021-10-08  09:46:16   \n",
       "\n",
       "                                               tweet            hashtags  \n",
       "0  @GyroCryptoBTC @cardano_beers Dc  GaboAP#5789 ...                  []  \n",
       "1  An $EGLD backed stablecoin on #cardano is in t...         ['cardano']  \n",
       "2  #Cardano's Emurgo Taps Into The African Market...  ['cardano', 'ada']  \n",
       "3  An $EGLD backed stablecoin on #cardano is in t...         ['cardano']  \n",
       "4   What's the best defi on #Cardano at the moment??         ['cardano']  "
      ]
     },
     "execution_count": 3,
     "metadata": {},
     "output_type": "execute_result"
    }
   ],
   "source": [
    "# Read json files into pandas\n",
    "df1 = pd.read_csv(file1_path)\n",
    "df2 = pd.read_csv(file2_path)\n",
    "df3 = pd.read_csv(file3_path)\n",
    "df4 = pd.read_csv(file4_path)\n",
    "df5 = pd.read_csv(file5_path)\n",
    "df6 = pd.read_csv(file6_path)\n",
    "df7 = pd.read_csv(file7_path)\n",
    "\n",
    "df1.head()"
   ]
  },
  {
   "cell_type": "code",
   "execution_count": 4,
   "id": "90e1a558-afe8-48c0-b979-f46af17dd339",
   "metadata": {},
   "outputs": [
    {
     "data": {
      "text/plain": [
       "109966"
      ]
     },
     "metadata": {},
     "output_type": "display_data"
    },
    {
     "data": {
      "text/plain": [
       "3636"
      ]
     },
     "metadata": {},
     "output_type": "display_data"
    },
    {
     "data": {
      "text/plain": [
       "770"
      ]
     },
     "metadata": {},
     "output_type": "display_data"
    },
    {
     "data": {
      "text/plain": [
       "4307"
      ]
     },
     "metadata": {},
     "output_type": "display_data"
    },
    {
     "data": {
      "text/plain": [
       "27102"
      ]
     },
     "metadata": {},
     "output_type": "display_data"
    },
    {
     "data": {
      "text/plain": [
       "6169"
      ]
     },
     "metadata": {},
     "output_type": "display_data"
    },
    {
     "data": {
      "text/plain": [
       "17076"
      ]
     },
     "metadata": {},
     "output_type": "display_data"
    }
   ],
   "source": [
    "# Display number of tweets in each df\n",
    "display(df1['tweet'].count())\n",
    "display(df2['tweet'].count())\n",
    "display(df3['tweet'].count())\n",
    "display(df4['tweet'].count())\n",
    "display(df5['tweet'].count())\n",
    "display(df6['tweet'].count())\n",
    "display(df7['tweet'].count())\n"
   ]
  },
  {
   "cell_type": "code",
   "execution_count": 5,
   "id": "1bdd3bd7-9c3b-4b2f-810d-bd8f0d028894",
   "metadata": {},
   "outputs": [
    {
     "data": {
      "text/plain": [
       "169026"
      ]
     },
     "execution_count": 5,
     "metadata": {},
     "output_type": "execute_result"
    }
   ],
   "source": [
    "# Concat all dfs and show total number of tweets\n",
    "merged_df = pd.concat([df1,df2,df3,df4,df5,df6,df7])\n",
    "merged_df['tweet'].count()"
   ]
  },
  {
   "cell_type": "code",
   "execution_count": 6,
   "id": "0660c3c6-1699-4de8-b36c-49fb45389a28",
   "metadata": {},
   "outputs": [],
   "source": [
    "# Drop duplicate tweets using id\n",
    "merged_df = merged_df.drop_duplicates(subset=['id'])"
   ]
  },
  {
   "cell_type": "code",
   "execution_count": 7,
   "id": "d32e0843-bdda-4f52-a541-c401d7e92be3",
   "metadata": {},
   "outputs": [
    {
     "data": {
      "text/plain": [
       "138046"
      ]
     },
     "execution_count": 7,
     "metadata": {},
     "output_type": "execute_result"
    }
   ],
   "source": [
    "merged_df['tweet'].count()"
   ]
  },
  {
   "cell_type": "code",
   "execution_count": 8,
   "id": "b4990b8a-c947-4b89-8c3a-9fcc9f9d6a14",
   "metadata": {},
   "outputs": [],
   "source": [
    "# Sort data by date\n",
    "sorted_df = merged_df.sort_values(by=['created_at'], ascending=False)"
   ]
  },
  {
   "cell_type": "code",
   "execution_count": 9,
   "id": "c30e18ba-783a-4794-8d68-ea77999868e0",
   "metadata": {},
   "outputs": [
    {
     "data": {
      "text/html": [
       "<div>\n",
       "<style scoped>\n",
       "    .dataframe tbody tr th:only-of-type {\n",
       "        vertical-align: middle;\n",
       "    }\n",
       "\n",
       "    .dataframe tbody tr th {\n",
       "        vertical-align: top;\n",
       "    }\n",
       "\n",
       "    .dataframe thead th {\n",
       "        text-align: right;\n",
       "    }\n",
       "</style>\n",
       "<table border=\"1\" class=\"dataframe\">\n",
       "  <thead>\n",
       "    <tr style=\"text-align: right;\">\n",
       "      <th></th>\n",
       "      <th>id</th>\n",
       "      <th>conversation_id</th>\n",
       "      <th>created_at</th>\n",
       "      <th>date</th>\n",
       "      <th>time</th>\n",
       "      <th>tweet</th>\n",
       "      <th>hashtags</th>\n",
       "    </tr>\n",
       "  </thead>\n",
       "  <tbody>\n",
       "    <tr>\n",
       "      <th>109961</th>\n",
       "      <td>1211748740907843585</td>\n",
       "      <td>1211698736465948672</td>\n",
       "      <td>2019-12-30 12:39:47 Pacific Standard Time</td>\n",
       "      <td>2019-12-30</td>\n",
       "      <td>12:39:47</td>\n",
       "      <td>@QuantaMagazine Cardano! I love it!</td>\n",
       "      <td>[]</td>\n",
       "    </tr>\n",
       "    <tr>\n",
       "      <th>109962</th>\n",
       "      <td>1211747232787189761</td>\n",
       "      <td>1211747232787189760</td>\n",
       "      <td>2019-12-30 12:33:48 Pacific Standard Time</td>\n",
       "      <td>2019-12-30</td>\n",
       "      <td>12:33:48</td>\n",
       "      <td>My 2020 #cardano New Years resolutions:  1. ON...</td>\n",
       "      <td>['cardano']</td>\n",
       "    </tr>\n",
       "    <tr>\n",
       "      <th>109963</th>\n",
       "      <td>1211746719974797316</td>\n",
       "      <td>1211746719974797312</td>\n",
       "      <td>2019-12-30 12:31:45 Pacific Standard Time</td>\n",
       "      <td>2019-12-30</td>\n",
       "      <td>12:31:45</td>\n",
       "      <td>the results for #HRMS stake pool in epoche 16 ...</td>\n",
       "      <td>['hrms', 'delegators', 'cardano', 'hermespool'...</td>\n",
       "    </tr>\n",
       "    <tr>\n",
       "      <th>109964</th>\n",
       "      <td>1211745447058006017</td>\n",
       "      <td>1161268076525916160</td>\n",
       "      <td>2019-12-30 12:26:42 Pacific Standard Time</td>\n",
       "      <td>2019-12-30</td>\n",
       "      <td>12:26:42</td>\n",
       "      <td>@alphacrypto8 @LTCFoundation @SatoshiLite @tez...</td>\n",
       "      <td>[]</td>\n",
       "    </tr>\n",
       "    <tr>\n",
       "      <th>109965</th>\n",
       "      <td>1211745280040800256</td>\n",
       "      <td>1210987950332362752</td>\n",
       "      <td>2019-12-30 12:26:02 Pacific Standard Time</td>\n",
       "      <td>2019-12-30</td>\n",
       "      <td>12:26:02</td>\n",
       "      <td>@FDD_01 @servet_erol Correct, our options are ...</td>\n",
       "      <td>[]</td>\n",
       "    </tr>\n",
       "  </tbody>\n",
       "</table>\n",
       "</div>"
      ],
      "text/plain": [
       "                         id      conversation_id  \\\n",
       "109961  1211748740907843585  1211698736465948672   \n",
       "109962  1211747232787189761  1211747232787189760   \n",
       "109963  1211746719974797316  1211746719974797312   \n",
       "109964  1211745447058006017  1161268076525916160   \n",
       "109965  1211745280040800256  1210987950332362752   \n",
       "\n",
       "                                       created_at        date      time  \\\n",
       "109961  2019-12-30 12:39:47 Pacific Standard Time  2019-12-30  12:39:47   \n",
       "109962  2019-12-30 12:33:48 Pacific Standard Time  2019-12-30  12:33:48   \n",
       "109963  2019-12-30 12:31:45 Pacific Standard Time  2019-12-30  12:31:45   \n",
       "109964  2019-12-30 12:26:42 Pacific Standard Time  2019-12-30  12:26:42   \n",
       "109965  2019-12-30 12:26:02 Pacific Standard Time  2019-12-30  12:26:02   \n",
       "\n",
       "                                                    tweet  \\\n",
       "109961                @QuantaMagazine Cardano! I love it!   \n",
       "109962  My 2020 #cardano New Years resolutions:  1. ON...   \n",
       "109963  the results for #HRMS stake pool in epoche 16 ...   \n",
       "109964  @alphacrypto8 @LTCFoundation @SatoshiLite @tez...   \n",
       "109965  @FDD_01 @servet_erol Correct, our options are ...   \n",
       "\n",
       "                                                 hashtags  \n",
       "109961                                                 []  \n",
       "109962                                        ['cardano']  \n",
       "109963  ['hrms', 'delegators', 'cardano', 'hermespool'...  \n",
       "109964                                                 []  \n",
       "109965                                                 []  "
      ]
     },
     "execution_count": 9,
     "metadata": {},
     "output_type": "execute_result"
    }
   ],
   "source": [
    "# Created new data frame with desired columns\n",
    "filtered_df = sorted_df[['id',\n",
    " 'conversation_id',\n",
    " 'created_at',\n",
    " 'date',\n",
    " 'time','tweet','hashtags']]\n",
    "filtered_df.tail()"
   ]
  },
  {
   "cell_type": "code",
   "execution_count": 10,
   "id": "d271a254-fda2-4bf6-98a2-5281e35eb008",
   "metadata": {},
   "outputs": [
    {
     "name": "stderr",
     "output_type": "stream",
     "text": [
      "C:\\Users\\dcmar\\.conda\\envs\\dev\\lib\\site-packages\\ipykernel_launcher.py:2: SettingWithCopyWarning: \n",
      "A value is trying to be set on a copy of a slice from a DataFrame.\n",
      "Try using .loc[row_indexer,col_indexer] = value instead\n",
      "\n",
      "See the caveats in the documentation: https://pandas.pydata.org/pandas-docs/stable/user_guide/indexing.html#returning-a-view-versus-a-copy\n",
      "  \n"
     ]
    },
    {
     "data": {
      "text/html": [
       "<div>\n",
       "<style scoped>\n",
       "    .dataframe tbody tr th:only-of-type {\n",
       "        vertical-align: middle;\n",
       "    }\n",
       "\n",
       "    .dataframe tbody tr th {\n",
       "        vertical-align: top;\n",
       "    }\n",
       "\n",
       "    .dataframe thead th {\n",
       "        text-align: right;\n",
       "    }\n",
       "</style>\n",
       "<table border=\"1\" class=\"dataframe\">\n",
       "  <thead>\n",
       "    <tr style=\"text-align: right;\">\n",
       "      <th></th>\n",
       "      <th>id</th>\n",
       "      <th>conversation_id</th>\n",
       "      <th>created_at</th>\n",
       "      <th>date</th>\n",
       "      <th>time</th>\n",
       "      <th>tweet</th>\n",
       "      <th>hashtags</th>\n",
       "    </tr>\n",
       "  </thead>\n",
       "  <tbody>\n",
       "    <tr>\n",
       "      <th>3882</th>\n",
       "      <td>1447724180049313794</td>\n",
       "      <td>1447724180049313794</td>\n",
       "      <td>2021-10-11 17:41:56 Pacific Daylight Time</td>\n",
       "      <td>2021-10-11</td>\n",
       "      <td>17:41:56</td>\n",
       "      <td>Give Cardano defi a go! #ADA #Cardano</td>\n",
       "      <td>['ada', 'cardano']</td>\n",
       "    </tr>\n",
       "    <tr>\n",
       "      <th>3883</th>\n",
       "      <td>1447724080719872006</td>\n",
       "      <td>1447724080719872006</td>\n",
       "      <td>2021-10-11 17:41:32 Pacific Daylight Time</td>\n",
       "      <td>2021-10-11</td>\n",
       "      <td>17:41:32</td>\n",
       "      <td>And here are the winners: @GanesSteven, @Clayf...</td>\n",
       "      <td>['fancyfortunes', 'cardano', 'cnft', 'nft']</td>\n",
       "    </tr>\n",
       "    <tr>\n",
       "      <th>3884</th>\n",
       "      <td>1447723995089022977</td>\n",
       "      <td>1447629666995539968</td>\n",
       "      <td>2021-10-11 17:41:12 Pacific Daylight Time</td>\n",
       "      <td>2021-10-11</td>\n",
       "      <td>17:41:12</td>\n",
       "      <td>@cardano_nft @EudaimoniaNFT @WilzeVeloso @Mosi...</td>\n",
       "      <td>[]</td>\n",
       "    </tr>\n",
       "    <tr>\n",
       "      <th>3885</th>\n",
       "      <td>1447723937463427077</td>\n",
       "      <td>1447680004137967619</td>\n",
       "      <td>2021-10-11 17:40:58 Pacific Daylight Time</td>\n",
       "      <td>2021-10-11</td>\n",
       "      <td>17:40:58</td>\n",
       "      <td>@realSidhuJag @VinnyLingham in a year #cardano...</td>\n",
       "      <td>['cardano']</td>\n",
       "    </tr>\n",
       "    <tr>\n",
       "      <th>3886</th>\n",
       "      <td>1447723885185675270</td>\n",
       "      <td>1447723885185675270</td>\n",
       "      <td>2021-10-11 17:40:46 Pacific Daylight Time</td>\n",
       "      <td>2021-10-11</td>\n",
       "      <td>17:40:46</td>\n",
       "      <td>🐳 #Cardano $ADA Whale ❤️laced! 💰 Transaction O...</td>\n",
       "      <td>['cardano', 'fintech', 'blockchain', 'crypto']</td>\n",
       "    </tr>\n",
       "  </tbody>\n",
       "</table>\n",
       "</div>"
      ],
      "text/plain": [
       "                       id      conversation_id  \\\n",
       "3882  1447724180049313794  1447724180049313794   \n",
       "3883  1447724080719872006  1447724080719872006   \n",
       "3884  1447723995089022977  1447629666995539968   \n",
       "3885  1447723937463427077  1447680004137967619   \n",
       "3886  1447723885185675270  1447723885185675270   \n",
       "\n",
       "                                     created_at        date      time  \\\n",
       "3882  2021-10-11 17:41:56 Pacific Daylight Time  2021-10-11  17:41:56   \n",
       "3883  2021-10-11 17:41:32 Pacific Daylight Time  2021-10-11  17:41:32   \n",
       "3884  2021-10-11 17:41:12 Pacific Daylight Time  2021-10-11  17:41:12   \n",
       "3885  2021-10-11 17:40:58 Pacific Daylight Time  2021-10-11  17:40:58   \n",
       "3886  2021-10-11 17:40:46 Pacific Daylight Time  2021-10-11  17:40:46   \n",
       "\n",
       "                                                  tweet  \\\n",
       "3882              Give Cardano defi a go! #ADA #Cardano   \n",
       "3883  And here are the winners: @GanesSteven, @Clayf...   \n",
       "3884  @cardano_nft @EudaimoniaNFT @WilzeVeloso @Mosi...   \n",
       "3885  @realSidhuJag @VinnyLingham in a year #cardano...   \n",
       "3886  🐳 #Cardano $ADA Whale ❤️laced! 💰 Transaction O...   \n",
       "\n",
       "                                            hashtags  \n",
       "3882                              ['ada', 'cardano']  \n",
       "3883     ['fancyfortunes', 'cardano', 'cnft', 'nft']  \n",
       "3884                                              []  \n",
       "3885                                     ['cardano']  \n",
       "3886  ['cardano', 'fintech', 'blockchain', 'crypto']  "
      ]
     },
     "execution_count": 10,
     "metadata": {},
     "output_type": "execute_result"
    }
   ],
   "source": [
    "# Convert date column to string\n",
    "filtered_df['date'] = filtered_df['date'].astype(str)\n",
    "filtered_df.head()"
   ]
  },
  {
   "cell_type": "code",
   "execution_count": 11,
   "id": "662f9b1c-42c9-42e9-baf0-f74c4ad347a3",
   "metadata": {},
   "outputs": [
    {
     "name": "stderr",
     "output_type": "stream",
     "text": [
      "C:\\Users\\dcmar\\.conda\\envs\\dev\\lib\\site-packages\\ipykernel_launcher.py:2: SettingWithCopyWarning: \n",
      "A value is trying to be set on a copy of a slice from a DataFrame.\n",
      "Try using .loc[row_indexer,col_indexer] = value instead\n",
      "\n",
      "See the caveats in the documentation: https://pandas.pydata.org/pandas-docs/stable/user_guide/indexing.html#returning-a-view-versus-a-copy\n",
      "  \n"
     ]
    },
    {
     "data": {
      "text/html": [
       "<div>\n",
       "<style scoped>\n",
       "    .dataframe tbody tr th:only-of-type {\n",
       "        vertical-align: middle;\n",
       "    }\n",
       "\n",
       "    .dataframe tbody tr th {\n",
       "        vertical-align: top;\n",
       "    }\n",
       "\n",
       "    .dataframe thead th {\n",
       "        text-align: right;\n",
       "    }\n",
       "</style>\n",
       "<table border=\"1\" class=\"dataframe\">\n",
       "  <thead>\n",
       "    <tr style=\"text-align: right;\">\n",
       "      <th></th>\n",
       "      <th>id</th>\n",
       "      <th>conversation_id</th>\n",
       "      <th>created_at</th>\n",
       "      <th>date</th>\n",
       "      <th>time</th>\n",
       "      <th>tweet</th>\n",
       "      <th>hashtags</th>\n",
       "    </tr>\n",
       "  </thead>\n",
       "  <tbody>\n",
       "    <tr>\n",
       "      <th>3882</th>\n",
       "      <td>1447724180049313794</td>\n",
       "      <td>1447724180049313794</td>\n",
       "      <td>2021-10-11 17:41:56 Pacific Daylight Time</td>\n",
       "      <td>2021-10-11</td>\n",
       "      <td>17:41:56</td>\n",
       "      <td>Give Cardano defi a go! #ADA #Cardano</td>\n",
       "      <td>['ada', 'cardano']</td>\n",
       "    </tr>\n",
       "    <tr>\n",
       "      <th>3883</th>\n",
       "      <td>1447724080719872006</td>\n",
       "      <td>1447724080719872006</td>\n",
       "      <td>2021-10-11 17:41:32 Pacific Daylight Time</td>\n",
       "      <td>2021-10-11</td>\n",
       "      <td>17:41:32</td>\n",
       "      <td>And here are the winners: @GanesSteven, @Clayf...</td>\n",
       "      <td>['fancyfortunes', 'cardano', 'cnft', 'nft']</td>\n",
       "    </tr>\n",
       "    <tr>\n",
       "      <th>3884</th>\n",
       "      <td>1447723995089022977</td>\n",
       "      <td>1447629666995539968</td>\n",
       "      <td>2021-10-11 17:41:12 Pacific Daylight Time</td>\n",
       "      <td>2021-10-11</td>\n",
       "      <td>17:41:12</td>\n",
       "      <td>@cardano_nft @EudaimoniaNFT @WilzeVeloso @Mosi...</td>\n",
       "      <td>[]</td>\n",
       "    </tr>\n",
       "    <tr>\n",
       "      <th>3885</th>\n",
       "      <td>1447723937463427077</td>\n",
       "      <td>1447680004137967619</td>\n",
       "      <td>2021-10-11 17:40:58 Pacific Daylight Time</td>\n",
       "      <td>2021-10-11</td>\n",
       "      <td>17:40:58</td>\n",
       "      <td>@realSidhuJag @VinnyLingham in a year #cardano...</td>\n",
       "      <td>['cardano']</td>\n",
       "    </tr>\n",
       "    <tr>\n",
       "      <th>3886</th>\n",
       "      <td>1447723885185675270</td>\n",
       "      <td>1447723885185675270</td>\n",
       "      <td>2021-10-11 17:40:46 Pacific Daylight Time</td>\n",
       "      <td>2021-10-11</td>\n",
       "      <td>17:40:46</td>\n",
       "      <td>🐳 #Cardano $ADA Whale ❤️laced! 💰 Transaction O...</td>\n",
       "      <td>['cardano', 'fintech', 'blockchain', 'crypto']</td>\n",
       "    </tr>\n",
       "  </tbody>\n",
       "</table>\n",
       "</div>"
      ],
      "text/plain": [
       "                       id      conversation_id  \\\n",
       "3882  1447724180049313794  1447724180049313794   \n",
       "3883  1447724080719872006  1447724080719872006   \n",
       "3884  1447723995089022977  1447629666995539968   \n",
       "3885  1447723937463427077  1447680004137967619   \n",
       "3886  1447723885185675270  1447723885185675270   \n",
       "\n",
       "                                     created_at        date      time  \\\n",
       "3882  2021-10-11 17:41:56 Pacific Daylight Time  2021-10-11  17:41:56   \n",
       "3883  2021-10-11 17:41:32 Pacific Daylight Time  2021-10-11  17:41:32   \n",
       "3884  2021-10-11 17:41:12 Pacific Daylight Time  2021-10-11  17:41:12   \n",
       "3885  2021-10-11 17:40:58 Pacific Daylight Time  2021-10-11  17:40:58   \n",
       "3886  2021-10-11 17:40:46 Pacific Daylight Time  2021-10-11  17:40:46   \n",
       "\n",
       "                                                  tweet  \\\n",
       "3882              Give Cardano defi a go! #ADA #Cardano   \n",
       "3883  And here are the winners: @GanesSteven, @Clayf...   \n",
       "3884  @cardano_nft @EudaimoniaNFT @WilzeVeloso @Mosi...   \n",
       "3885  @realSidhuJag @VinnyLingham in a year #cardano...   \n",
       "3886  🐳 #Cardano $ADA Whale ❤️laced! 💰 Transaction O...   \n",
       "\n",
       "                                            hashtags  \n",
       "3882                              ['ada', 'cardano']  \n",
       "3883     ['fancyfortunes', 'cardano', 'cnft', 'nft']  \n",
       "3884                                              []  \n",
       "3885                                     ['cardano']  \n",
       "3886  ['cardano', 'fintech', 'blockchain', 'crypto']  "
      ]
     },
     "execution_count": 11,
     "metadata": {},
     "output_type": "execute_result"
    }
   ],
   "source": [
    "# Drop time part from date column values\n",
    "filtered_df['date'] = filtered_df['date'].str.replace(' 00:00:00', '').astype(str)\n",
    "filtered_df.head()"
   ]
  },
  {
   "cell_type": "code",
   "execution_count": 12,
   "id": "e4557032-ca26-4ae8-9d8b-a6b57b6aafdf",
   "metadata": {},
   "outputs": [],
   "source": [
    "# List of dates\n",
    "dates = [\"2021-10-10\",\"2021-10-09\",\"2021-10-08\",\"2021-10-07\",\"2021-10-06\", \"2021-10-05\", \"2021-10-04\", \"2021-10-03\", \"2021-10-02\", \"2021-10-01\"]"
   ]
  },
  {
   "cell_type": "code",
   "execution_count": 13,
   "id": "d5c74de6-a05b-4f4d-ad24-eae0c802cf2a",
   "metadata": {},
   "outputs": [],
   "source": [
    "def csv_creator(dates):\n",
    "    for date in dates:\n",
    "        split_df = filtered_df[filtered_df['date'] == date]\n",
    "        filename = \"ada_tweets_\"+ date+\".csv\"\n",
    "        print(filename)\n",
    "        split_df.to_csv(filename, encoding='utf-8', index=False)"
   ]
  },
  {
   "cell_type": "code",
   "execution_count": 14,
   "id": "c6525837-cc0d-45ed-8ed3-c08ff30798e6",
   "metadata": {},
   "outputs": [
    {
     "name": "stdout",
     "output_type": "stream",
     "text": [
      "ada_tweets_2021-10-10.csv\n",
      "ada_tweets_2021-10-09.csv\n",
      "ada_tweets_2021-10-08.csv\n",
      "ada_tweets_2021-10-07.csv\n",
      "ada_tweets_2021-10-06.csv\n",
      "ada_tweets_2021-10-05.csv\n",
      "ada_tweets_2021-10-04.csv\n",
      "ada_tweets_2021-10-03.csv\n",
      "ada_tweets_2021-10-02.csv\n",
      "ada_tweets_2021-10-01.csv\n"
     ]
    }
   ],
   "source": [
    "csv_creator(dates)"
   ]
  },
  {
   "cell_type": "code",
   "execution_count": 15,
   "id": "2e1252c4-47f4-4162-9c63-a4ff9585f279",
   "metadata": {},
   "outputs": [],
   "source": [
    "filtered_df.to_csv('./ada_tweets_all.csv', encoding='utf-8', index=False)"
   ]
  },
  {
   "cell_type": "code",
   "execution_count": 10,
   "id": "b3676aa0-def3-4291-a22e-1b51bf305d3a",
   "metadata": {},
   "outputs": [],
   "source": []
  },
  {
   "cell_type": "code",
   "execution_count": null,
   "id": "55041b63-0f5d-4494-9f64-b31262609bca",
   "metadata": {},
   "outputs": [],
   "source": []
  }
 ],
 "metadata": {
  "kernelspec": {
   "display_name": "Python 3",
   "language": "python",
   "name": "python3"
  },
  "language_info": {
   "codemirror_mode": {
    "name": "ipython",
    "version": 3
   },
   "file_extension": ".py",
   "mimetype": "text/x-python",
   "name": "python",
   "nbconvert_exporter": "python",
   "pygments_lexer": "ipython3",
   "version": "3.7.10"
  }
 },
 "nbformat": 4,
 "nbformat_minor": 5
}
