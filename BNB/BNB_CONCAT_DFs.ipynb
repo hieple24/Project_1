{
 "cells": [
  {
   "cell_type": "code",
   "execution_count": 11,
   "id": "7f9ba803-c167-453f-89da-7e54f7c6768a",
   "metadata": {},
   "outputs": [],
   "source": [
    "import pandas as pd\n",
    "import json\n",
    "from pathlib import Path\n",
    "import csv\n",
    "import sqlalchemy as sql\n",
    "from sqlalchemy import create_engine\n",
    "%matplotlib inline\n",
    "import numpy as np\n",
    "import hvplot.pandas\n",
    "import matplotlib.pyplot as plt"
   ]
  },
  {
   "cell_type": "code",
   "execution_count": 2,
   "id": "fe2cd3ab-a16b-4bb8-86df-9f7da9d8bf55",
   "metadata": {},
   "outputs": [],
   "source": [
    "bnb_price_engine = sql.create_engine(\"sqlite:///bnb_price_data_df.db\")"
   ]
  },
  {
   "cell_type": "code",
   "execution_count": 3,
   "id": "589602bc-6d00-46e8-b70e-f92000eb8c05",
   "metadata": {},
   "outputs": [],
   "source": [
    "bnb_tweet_count_engine = sql.create_engine(\"sqlite:///bnb_tweet_count_df.db\")"
   ]
  },
  {
   "cell_type": "code",
   "execution_count": 4,
   "id": "e6b2c671-60bc-496b-a46b-59c21750c592",
   "metadata": {},
   "outputs": [],
   "source": [
    "sql_query1 = \"\"\"SELECT Timestamp, Value FROM BNB_price_data_df1\"\"\"\n",
    "df1 = pd.read_sql(sql_query1, con=bnb_price_engine)\n",
    "sql_query2 = \"\"\"SELECT Timestamp, tweet_count FROM BNB_tweet_count_df1\"\"\"\n",
    "df2 = pd.read_sql(sql_query2, con=bnb_tweet_count_engine)"
   ]
  },
  {
   "cell_type": "code",
   "execution_count": 5,
   "id": "6626fc92-f359-4d46-868f-932b6ce962ee",
   "metadata": {},
   "outputs": [
    {
     "data": {
      "text/html": [
       "<div>\n",
       "<style scoped>\n",
       "    .dataframe tbody tr th:only-of-type {\n",
       "        vertical-align: middle;\n",
       "    }\n",
       "\n",
       "    .dataframe tbody tr th {\n",
       "        vertical-align: top;\n",
       "    }\n",
       "\n",
       "    .dataframe thead th {\n",
       "        text-align: right;\n",
       "    }\n",
       "</style>\n",
       "<table border=\"1\" class=\"dataframe\">\n",
       "  <thead>\n",
       "    <tr style=\"text-align: right;\">\n",
       "      <th></th>\n",
       "      <th>Timestamp</th>\n",
       "      <th>tweet_count</th>\n",
       "    </tr>\n",
       "  </thead>\n",
       "  <tbody>\n",
       "    <tr>\n",
       "      <th>0</th>\n",
       "      <td>2021-10-02 23:00:00.000000</td>\n",
       "      <td>829</td>\n",
       "    </tr>\n",
       "    <tr>\n",
       "      <th>1</th>\n",
       "      <td>2021-10-03 00:00:00.000000</td>\n",
       "      <td>5932</td>\n",
       "    </tr>\n",
       "    <tr>\n",
       "      <th>2</th>\n",
       "      <td>2021-10-03 01:00:00.000000</td>\n",
       "      <td>6084</td>\n",
       "    </tr>\n",
       "    <tr>\n",
       "      <th>3</th>\n",
       "      <td>2021-10-03 02:00:00.000000</td>\n",
       "      <td>7327</td>\n",
       "    </tr>\n",
       "    <tr>\n",
       "      <th>4</th>\n",
       "      <td>2021-10-03 03:00:00.000000</td>\n",
       "      <td>8929</td>\n",
       "    </tr>\n",
       "  </tbody>\n",
       "</table>\n",
       "</div>"
      ],
      "text/plain": [
       "                    Timestamp  tweet_count\n",
       "0  2021-10-02 23:00:00.000000          829\n",
       "1  2021-10-03 00:00:00.000000         5932\n",
       "2  2021-10-03 01:00:00.000000         6084\n",
       "3  2021-10-03 02:00:00.000000         7327\n",
       "4  2021-10-03 03:00:00.000000         8929"
      ]
     },
     "execution_count": 5,
     "metadata": {},
     "output_type": "execute_result"
    }
   ],
   "source": [
    "df2.head()"
   ]
  },
  {
   "cell_type": "code",
   "execution_count": 6,
   "id": "d62c39fb-aa6a-4dba-a659-9767331032bd",
   "metadata": {},
   "outputs": [],
   "source": [
    "merged_df = pd.merge(df1, df2, how=\"left\")"
   ]
  },
  {
   "cell_type": "code",
   "execution_count": 7,
   "id": "fffe1659-faa0-44f9-9a8c-d0d548983ecd",
   "metadata": {},
   "outputs": [
    {
     "data": {
      "text/html": [
       "<div>\n",
       "<style scoped>\n",
       "    .dataframe tbody tr th:only-of-type {\n",
       "        vertical-align: middle;\n",
       "    }\n",
       "\n",
       "    .dataframe tbody tr th {\n",
       "        vertical-align: top;\n",
       "    }\n",
       "\n",
       "    .dataframe thead th {\n",
       "        text-align: right;\n",
       "    }\n",
       "</style>\n",
       "<table border=\"1\" class=\"dataframe\">\n",
       "  <thead>\n",
       "    <tr style=\"text-align: right;\">\n",
       "      <th></th>\n",
       "      <th>Timestamp</th>\n",
       "      <th>Value</th>\n",
       "      <th>tweet_count</th>\n",
       "    </tr>\n",
       "  </thead>\n",
       "  <tbody>\n",
       "    <tr>\n",
       "      <th>0</th>\n",
       "      <td>2021-10-02 15:00:00.000000</td>\n",
       "      <td>435.38</td>\n",
       "      <td>NaN</td>\n",
       "    </tr>\n",
       "    <tr>\n",
       "      <th>1</th>\n",
       "      <td>2021-10-02 16:00:00.000000</td>\n",
       "      <td>427.40</td>\n",
       "      <td>NaN</td>\n",
       "    </tr>\n",
       "    <tr>\n",
       "      <th>2</th>\n",
       "      <td>2021-10-02 17:00:00.000000</td>\n",
       "      <td>424.15</td>\n",
       "      <td>NaN</td>\n",
       "    </tr>\n",
       "    <tr>\n",
       "      <th>3</th>\n",
       "      <td>2021-10-02 18:00:00.000000</td>\n",
       "      <td>425.60</td>\n",
       "      <td>NaN</td>\n",
       "    </tr>\n",
       "    <tr>\n",
       "      <th>4</th>\n",
       "      <td>2021-10-02 19:00:00.000000</td>\n",
       "      <td>426.80</td>\n",
       "      <td>NaN</td>\n",
       "    </tr>\n",
       "  </tbody>\n",
       "</table>\n",
       "</div>"
      ],
      "text/plain": [
       "                    Timestamp   Value  tweet_count\n",
       "0  2021-10-02 15:00:00.000000  435.38          NaN\n",
       "1  2021-10-02 16:00:00.000000  427.40          NaN\n",
       "2  2021-10-02 17:00:00.000000  424.15          NaN\n",
       "3  2021-10-02 18:00:00.000000  425.60          NaN\n",
       "4  2021-10-02 19:00:00.000000  426.80          NaN"
      ]
     },
     "execution_count": 7,
     "metadata": {},
     "output_type": "execute_result"
    }
   ],
   "source": [
    "merged_df.head()"
   ]
  },
  {
   "cell_type": "code",
   "execution_count": 8,
   "id": "5ca4addb-40ee-4fbf-ae45-1fcbca8dd12a",
   "metadata": {},
   "outputs": [],
   "source": [
    "merged_df = merged_df.dropna()"
   ]
  },
  {
   "cell_type": "code",
   "execution_count": 9,
   "id": "d9d25a18-1b9b-4a96-af72-d74dc72b9144",
   "metadata": {},
   "outputs": [
    {
     "data": {
      "text/html": [
       "<div>\n",
       "<style scoped>\n",
       "    .dataframe tbody tr th:only-of-type {\n",
       "        vertical-align: middle;\n",
       "    }\n",
       "\n",
       "    .dataframe tbody tr th {\n",
       "        vertical-align: top;\n",
       "    }\n",
       "\n",
       "    .dataframe thead th {\n",
       "        text-align: right;\n",
       "    }\n",
       "</style>\n",
       "<table border=\"1\" class=\"dataframe\">\n",
       "  <thead>\n",
       "    <tr style=\"text-align: right;\">\n",
       "      <th></th>\n",
       "      <th>Timestamp</th>\n",
       "      <th>Value</th>\n",
       "      <th>tweet_count</th>\n",
       "    </tr>\n",
       "  </thead>\n",
       "  <tbody>\n",
       "    <tr>\n",
       "      <th>8</th>\n",
       "      <td>2021-10-02 23:00:00.000000</td>\n",
       "      <td>433.16</td>\n",
       "      <td>829.0</td>\n",
       "    </tr>\n",
       "    <tr>\n",
       "      <th>9</th>\n",
       "      <td>2021-10-03 00:00:00.000000</td>\n",
       "      <td>429.46</td>\n",
       "      <td>5932.0</td>\n",
       "    </tr>\n",
       "    <tr>\n",
       "      <th>10</th>\n",
       "      <td>2021-10-03 01:00:00.000000</td>\n",
       "      <td>428.40</td>\n",
       "      <td>6084.0</td>\n",
       "    </tr>\n",
       "    <tr>\n",
       "      <th>11</th>\n",
       "      <td>2021-10-03 02:00:00.000000</td>\n",
       "      <td>425.18</td>\n",
       "      <td>7327.0</td>\n",
       "    </tr>\n",
       "    <tr>\n",
       "      <th>12</th>\n",
       "      <td>2021-10-03 03:00:00.000000</td>\n",
       "      <td>425.71</td>\n",
       "      <td>8929.0</td>\n",
       "    </tr>\n",
       "  </tbody>\n",
       "</table>\n",
       "</div>"
      ],
      "text/plain": [
       "                     Timestamp   Value  tweet_count\n",
       "8   2021-10-02 23:00:00.000000  433.16        829.0\n",
       "9   2021-10-03 00:00:00.000000  429.46       5932.0\n",
       "10  2021-10-03 01:00:00.000000  428.40       6084.0\n",
       "11  2021-10-03 02:00:00.000000  425.18       7327.0\n",
       "12  2021-10-03 03:00:00.000000  425.71       8929.0"
      ]
     },
     "execution_count": 9,
     "metadata": {},
     "output_type": "execute_result"
    }
   ],
   "source": [
    "merged_df.head()"
   ]
  },
  {
   "cell_type": "code",
   "execution_count": 12,
   "id": "5540f9c6-db53-4846-901d-6ad3e9c1c653",
   "metadata": {},
   "outputs": [
    {
     "name": "stderr",
     "output_type": "stream",
     "text": [
      "No handles with labels found to put in legend.\n"
     ]
    },
    {
     "data": {
      "image/png": "[encoded data removed]",
      "text/plain": [
       "<Figure size 432x288 with 2 Axes>"
      ]
     },
     "metadata": {
      "needs_background": "light"
     },
     "output_type": "display_data"
    },
    {
     "data": {
      "text/plain": [
       "<Figure size 864x432 with 0 Axes>"
      ]
     },
     "metadata": {},
     "output_type": "display_data"
    }
   ],
   "source": [
    "fig, ax_data = plt.subplots()\n",
    "\n",
    "fig = plt.figure(figsize=(12,6))\n",
    "\n",
    "ax_data.set_xlabel(\"Timestamp\")\n",
    "\n",
    "ax_data.tick_params(axis=\"x\", bottom=False, labelbottom=False)\n",
    "\n",
    "ax_data.set_ylabel(\"Value\", color=\"red\", size=\"x-large\")\n",
    "\n",
    "ax_data.tick_params(axis=\"y\", labelcolor=\"red\", labelsize=\"large\")\n",
    "\n",
    "ax_data.plot(merged_df[\"Timestamp\"], merged_df[\"Value\"], color=\"red\")\n",
    "\n",
    "ax_tweet_count = ax_data.twinx()\n",
    "ax_tweet_count.set_ylabel(\"Tweet Count\", color=\"blue\", size=\"x-large\")\n",
    "\n",
    "ax_tweet_count.tick_params(axis=\"y\", labelcolor=\"blue\", labelsize=\"large\")\n",
    "ax_tweet_count.plot(merged_df[\"Timestamp\"], merged_df[\"tweet_count\"], color=\"blue\")\n",
    "\n",
    "fig.legend(loc=1, bbox_to_anchor=(1,1), bbox_transform=ax_data.transAxes)\n",
    "\n",
    "plt.show()"
   ]
  },
  {
   "cell_type": "code",
   "execution_count": 13,
   "id": "e66eacd1-cdcc-45dd-ae59-fee953539b8f",
   "metadata": {},
   "outputs": [
    {
     "data": {
      "text/html": [
       "<div>\n",
       "<style scoped>\n",
       "    .dataframe tbody tr th:only-of-type {\n",
       "        vertical-align: middle;\n",
       "    }\n",
       "\n",
       "    .dataframe tbody tr th {\n",
       "        vertical-align: top;\n",
       "    }\n",
       "\n",
       "    .dataframe thead th {\n",
       "        text-align: right;\n",
       "    }\n",
       "</style>\n",
       "<table border=\"1\" class=\"dataframe\">\n",
       "  <thead>\n",
       "    <tr style=\"text-align: right;\">\n",
       "      <th></th>\n",
       "      <th>Value</th>\n",
       "      <th>tweet_count</th>\n",
       "    </tr>\n",
       "  </thead>\n",
       "  <tbody>\n",
       "    <tr>\n",
       "      <th>Value</th>\n",
       "      <td>1.00000</td>\n",
       "      <td>-0.09014</td>\n",
       "    </tr>\n",
       "    <tr>\n",
       "      <th>tweet_count</th>\n",
       "      <td>-0.09014</td>\n",
       "      <td>1.00000</td>\n",
       "    </tr>\n",
       "  </tbody>\n",
       "</table>\n",
       "</div>"
      ],
      "text/plain": [
       "               Value  tweet_count\n",
       "Value        1.00000     -0.09014\n",
       "tweet_count -0.09014      1.00000"
      ]
     },
     "execution_count": 13,
     "metadata": {},
     "output_type": "execute_result"
    }
   ],
   "source": [
    "merged_df.corr()"
   ]
  },
  {
   "cell_type": "code",
   "execution_count": 14,
   "id": "5dda8276-0878-478b-a050-ab4f57eba15c",
   "metadata": {},
   "outputs": [
    {
     "data": {
      "text/plain": [
       "8           NaN\n",
       "9      6.155609\n",
       "10     0.025624\n",
       "11     0.204306\n",
       "12     0.218643\n",
       "         ...   \n",
       "164   -0.217641\n",
       "165    0.048138\n",
       "166    0.338772\n",
       "167    0.004333\n",
       "168   -0.083416\n",
       "Name: tweet_count, Length: 161, dtype: float64"
      ]
     },
     "execution_count": 14,
     "metadata": {},
     "output_type": "execute_result"
    }
   ],
   "source": [
    "merged_df[\"tweet_count\"].pct_change()"
   ]
  },
  {
   "cell_type": "code",
   "execution_count": 102,
   "id": "beaee6ab-5876-47a1-9040-84be23eccb07",
   "metadata": {},
   "outputs": [
    {
     "data": {
      "text/html": [
       "<div>\n",
       "<style scoped>\n",
       "    .dataframe tbody tr th:only-of-type {\n",
       "        vertical-align: middle;\n",
       "    }\n",
       "\n",
       "    .dataframe tbody tr th {\n",
       "        vertical-align: top;\n",
       "    }\n",
       "\n",
       "    .dataframe thead th {\n",
       "        text-align: right;\n",
       "    }\n",
       "</style>\n",
       "<table border=\"1\" class=\"dataframe\">\n",
       "  <thead>\n",
       "    <tr style=\"text-align: right;\">\n",
       "      <th></th>\n",
       "      <th>Value</th>\n",
       "      <th>tweet_count</th>\n",
       "    </tr>\n",
       "  </thead>\n",
       "  <tbody>\n",
       "    <tr>\n",
       "      <th>count</th>\n",
       "      <td>163.000000</td>\n",
       "      <td>163.000000</td>\n",
       "    </tr>\n",
       "    <tr>\n",
       "      <th>mean</th>\n",
       "      <td>51758.942086</td>\n",
       "      <td>21888.171779</td>\n",
       "    </tr>\n",
       "    <tr>\n",
       "      <th>std</th>\n",
       "      <td>2896.508466</td>\n",
       "      <td>6907.328904</td>\n",
       "    </tr>\n",
       "    <tr>\n",
       "      <th>min</th>\n",
       "      <td>47309.440000</td>\n",
       "      <td>9134.000000</td>\n",
       "    </tr>\n",
       "    <tr>\n",
       "      <th>25%</th>\n",
       "      <td>48932.165000</td>\n",
       "      <td>17007.500000</td>\n",
       "    </tr>\n",
       "    <tr>\n",
       "      <th>50%</th>\n",
       "      <td>51559.970000</td>\n",
       "      <td>20521.000000</td>\n",
       "    </tr>\n",
       "    <tr>\n",
       "      <th>75%</th>\n",
       "      <td>54555.315000</td>\n",
       "      <td>25319.500000</td>\n",
       "    </tr>\n",
       "    <tr>\n",
       "      <th>max</th>\n",
       "      <td>55823.610000</td>\n",
       "      <td>60330.000000</td>\n",
       "    </tr>\n",
       "  </tbody>\n",
       "</table>\n",
       "</div>"
      ],
      "text/plain": [
       "              Value   tweet_count\n",
       "count    163.000000    163.000000\n",
       "mean   51758.942086  21888.171779\n",
       "std     2896.508466   6907.328904\n",
       "min    47309.440000   9134.000000\n",
       "25%    48932.165000  17007.500000\n",
       "50%    51559.970000  20521.000000\n",
       "75%    54555.315000  25319.500000\n",
       "max    55823.610000  60330.000000"
      ]
     },
     "execution_count": 102,
     "metadata": {},
     "output_type": "execute_result"
    }
   ],
   "source": [
    "merged_df.describe()"
   ]
  },
  {
   "cell_type": "code",
   "execution_count": null,
   "id": "96e9ea2d-1329-4cc2-ad2b-a8c705cae201",
   "metadata": {},
   "outputs": [],
   "source": []
  },
  {
   "cell_type": "code",
   "execution_count": null,
   "id": "8a69d7ac-0c9d-4a40-b344-44ad149958f7",
   "metadata": {},
   "outputs": [],
   "source": []
  }
 ],
 "metadata": {
  "kernelspec": {
   "display_name": "dev",
   "language": "python",
   "name": "dev"
  },
  "language_info": {
   "codemirror_mode": {
    "name": "ipython",
    "version": 3
   },
   "file_extension": ".py",
   "mimetype": "text/x-python",
   "name": "python",
   "nbconvert_exporter": "python",
   "pygments_lexer": "ipython3",
   "version": "3.7.10"
  }
 },
 "nbformat": 4,
 "nbformat_minor": 5
}
