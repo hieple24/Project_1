{
 "cells": [
  {
   "cell_type": "code",
   "execution_count": 31,
   "id": "95c26ec8-7ece-4443-b024-cdc115e3a1b0",
   "metadata": {},
   "outputs": [],
   "source": [
    "import json\n",
    "import pandas as pd\n",
    "import csv\n",
    "from pathlib import Path\n",
    "import sqlalchemy as sql\n",
    "from sqlalchemy import create_engine\n"
   ]
  },
  {
   "cell_type": "code",
   "execution_count": 29,
   "id": "b97bf457-71a5-4842-9c0e-2b628c8a9e6c",
   "metadata": {},
   "outputs": [],
   "source": [
    "BTC_price_data_df = pd.read_csv(Path(\"BTC_Data.csv\"))"
   ]
  },
  {
   "cell_type": "code",
   "execution_count": 30,
   "id": "072a8732-a136-4ee1-9b57-11f1932f3382",
   "metadata": {},
   "outputs": [
    {
     "data": {
      "text/html": [
       "<div>\n",
       "<style scoped>\n",
       "    .dataframe tbody tr th:only-of-type {\n",
       "        vertical-align: middle;\n",
       "    }\n",
       "\n",
       "    .dataframe tbody tr th {\n",
       "        vertical-align: top;\n",
       "    }\n",
       "\n",
       "    .dataframe thead th {\n",
       "        text-align: right;\n",
       "    }\n",
       "</style>\n",
       "<table border=\"1\" class=\"dataframe\">\n",
       "  <thead>\n",
       "    <tr style=\"text-align: right;\">\n",
       "      <th></th>\n",
       "      <th>Timestamp</th>\n",
       "      <th>Value</th>\n",
       "    </tr>\n",
       "  </thead>\n",
       "  <tbody>\n",
       "    <tr>\n",
       "      <th>0</th>\n",
       "      <td>10/02/2021, 11:00:00</td>\n",
       "      <td>47896.63</td>\n",
       "    </tr>\n",
       "    <tr>\n",
       "      <th>1</th>\n",
       "      <td>10/02/2021, 12:00:00</td>\n",
       "      <td>48260.50</td>\n",
       "    </tr>\n",
       "    <tr>\n",
       "      <th>2</th>\n",
       "      <td>10/02/2021, 13:00:00</td>\n",
       "      <td>48021.93</td>\n",
       "    </tr>\n",
       "    <tr>\n",
       "      <th>3</th>\n",
       "      <td>10/02/2021, 14:00:00</td>\n",
       "      <td>48156.23</td>\n",
       "    </tr>\n",
       "    <tr>\n",
       "      <th>4</th>\n",
       "      <td>10/02/2021, 15:00:00</td>\n",
       "      <td>48087.25</td>\n",
       "    </tr>\n",
       "  </tbody>\n",
       "</table>\n",
       "</div>"
      ],
      "text/plain": [
       "              Timestamp     Value\n",
       "0  10/02/2021, 11:00:00  47896.63\n",
       "1  10/02/2021, 12:00:00  48260.50\n",
       "2  10/02/2021, 13:00:00  48021.93\n",
       "3  10/02/2021, 14:00:00  48156.23\n",
       "4  10/02/2021, 15:00:00  48087.25"
      ]
     },
     "execution_count": 30,
     "metadata": {},
     "output_type": "execute_result"
    }
   ],
   "source": [
    "BTC_price_data_df.head()"
   ]
  },
  {
   "cell_type": "code",
   "execution_count": 35,
   "id": "90d6bcd9-258c-44d3-ae02-193974277315",
   "metadata": {},
   "outputs": [],
   "source": [
    "BTC_price_data_df[\"Timestamp\"] = pd.to_datetime(BTC_price_data_df[\"Timestamp\"])"
   ]
  },
  {
   "cell_type": "code",
   "execution_count": 36,
   "id": "92e0c51d-7ba7-4fe0-a86a-045311cf66ef",
   "metadata": {},
   "outputs": [
    {
     "data": {
      "text/html": [
       "<div>\n",
       "<style scoped>\n",
       "    .dataframe tbody tr th:only-of-type {\n",
       "        vertical-align: middle;\n",
       "    }\n",
       "\n",
       "    .dataframe tbody tr th {\n",
       "        vertical-align: top;\n",
       "    }\n",
       "\n",
       "    .dataframe thead th {\n",
       "        text-align: right;\n",
       "    }\n",
       "</style>\n",
       "<table border=\"1\" class=\"dataframe\">\n",
       "  <thead>\n",
       "    <tr style=\"text-align: right;\">\n",
       "      <th></th>\n",
       "      <th>Timestamp</th>\n",
       "      <th>Value</th>\n",
       "    </tr>\n",
       "  </thead>\n",
       "  <tbody>\n",
       "    <tr>\n",
       "      <th>0</th>\n",
       "      <td>2021-10-02 11:00:00</td>\n",
       "      <td>47896.63</td>\n",
       "    </tr>\n",
       "    <tr>\n",
       "      <th>1</th>\n",
       "      <td>2021-10-02 12:00:00</td>\n",
       "      <td>48260.50</td>\n",
       "    </tr>\n",
       "    <tr>\n",
       "      <th>2</th>\n",
       "      <td>2021-10-02 13:00:00</td>\n",
       "      <td>48021.93</td>\n",
       "    </tr>\n",
       "    <tr>\n",
       "      <th>3</th>\n",
       "      <td>2021-10-02 14:00:00</td>\n",
       "      <td>48156.23</td>\n",
       "    </tr>\n",
       "    <tr>\n",
       "      <th>4</th>\n",
       "      <td>2021-10-02 15:00:00</td>\n",
       "      <td>48087.25</td>\n",
       "    </tr>\n",
       "  </tbody>\n",
       "</table>\n",
       "</div>"
      ],
      "text/plain": [
       "            Timestamp     Value\n",
       "0 2021-10-02 11:00:00  47896.63\n",
       "1 2021-10-02 12:00:00  48260.50\n",
       "2 2021-10-02 13:00:00  48021.93\n",
       "3 2021-10-02 14:00:00  48156.23\n",
       "4 2021-10-02 15:00:00  48087.25"
      ]
     },
     "execution_count": 36,
     "metadata": {},
     "output_type": "execute_result"
    }
   ],
   "source": [
    "BTC_price_data_df.head()"
   ]
  },
  {
   "cell_type": "code",
   "execution_count": 37,
   "id": "3a2f954b-7156-427b-a013-1bbdb5f98737",
   "metadata": {},
   "outputs": [],
   "source": [
    "engine = create_engine(\"sqlite:///BTC_price_data_df.db\", echo=True)\n",
    "sqlite_connection = engine.connect()"
   ]
  },
  {
   "cell_type": "code",
   "execution_count": 38,
   "id": "1c6d6793-3b77-4313-b03e-9fe63e8fac0e",
   "metadata": {},
   "outputs": [
    {
     "name": "stdout",
     "output_type": "stream",
     "text": [
      "2021-10-09 14:48:49,168 INFO sqlalchemy.engine.Engine PRAGMA main.table_info(\"BTC_price_data_df2\")\n",
      "2021-10-09 14:48:49,182 INFO sqlalchemy.engine.Engine [raw sql] ()\n",
      "2021-10-09 14:48:49,188 INFO sqlalchemy.engine.Engine PRAGMA temp.table_info(\"BTC_price_data_df2\")\n",
      "2021-10-09 14:48:49,191 INFO sqlalchemy.engine.Engine [raw sql] ()\n",
      "2021-10-09 14:48:49,204 INFO sqlalchemy.engine.Engine \n",
      "CREATE TABLE \"BTC_price_data_df2\" (\n",
      "\t\"index\" BIGINT, \n",
      "\t\"Timestamp\" DATETIME, \n",
      "\t\"Value\" FLOAT\n",
      ")\n",
      "\n",
      "\n",
      "2021-10-09 14:48:49,206 INFO sqlalchemy.engine.Engine [no key 0.00194s] ()\n",
      "2021-10-09 14:48:49,217 INFO sqlalchemy.engine.Engine COMMIT\n",
      "2021-10-09 14:48:49,219 INFO sqlalchemy.engine.Engine CREATE INDEX \"ix_BTC_price_data_df2_index\" ON \"BTC_price_data_df2\" (\"index\")\n",
      "2021-10-09 14:48:49,220 INFO sqlalchemy.engine.Engine [no key 0.00096s] ()\n",
      "2021-10-09 14:48:49,227 INFO sqlalchemy.engine.Engine COMMIT\n",
      "2021-10-09 14:48:49,256 INFO sqlalchemy.engine.Engine BEGIN (implicit)\n",
      "2021-10-09 14:48:49,267 INFO sqlalchemy.engine.Engine INSERT INTO \"BTC_price_data_df2\" (\"index\", \"Timestamp\", \"Value\") VALUES (?, ?, ?)\n",
      "2021-10-09 14:48:49,267 INFO sqlalchemy.engine.Engine [generated in 0.00418s] ((0, '2021-10-02 11:00:00.000000', 47896.63), (1, '2021-10-02 12:00:00.000000', 48260.5), (2, '2021-10-02 13:00:00.000000', 48021.93), (3, '2021-10-02 14:00:00.000000', 48156.23), (4, '2021-10-02 15:00:00.000000', 48087.25), (5, '2021-10-02 16:00:00.000000', 47669.02), (6, '2021-10-02 17:00:00.000000', 47309.44), (7, '2021-10-02 18:00:00.000000', 47557.04)  ... displaying 10 of 169 total bound parameter sets ...  (167, '2021-10-09 10:00:00.000000', 54914.06), (168, '2021-10-09 11:00:00.000000', 54784.56))\n",
      "2021-10-09 14:48:49,274 INFO sqlalchemy.engine.Engine COMMIT\n",
      "2021-10-09 14:48:49,280 INFO sqlalchemy.engine.Engine SELECT name FROM sqlite_master WHERE type='table' ORDER BY name\n",
      "2021-10-09 14:48:49,281 INFO sqlalchemy.engine.Engine [raw sql] ()\n"
     ]
    }
   ],
   "source": [
    "sqlite_table = \"BTC_price_data_df2\"\n",
    "BTC_price_data_df.to_sql(sqlite_table, sqlite_connection, if_exists=\"fail\")"
   ]
  },
  {
   "cell_type": "code",
   "execution_count": null,
   "id": "b577a4f4-7fcf-4e4a-bb2a-3dff11ccda24",
   "metadata": {},
   "outputs": [],
   "source": []
  }
 ],
 "metadata": {
  "kernelspec": {
   "display_name": "dev",
   "language": "python",
   "name": "dev"
  },
  "language_info": {
   "codemirror_mode": {
    "name": "ipython",
    "version": 3
   },
   "file_extension": ".py",
   "mimetype": "text/x-python",
   "name": "python",
   "nbconvert_exporter": "python",
   "pygments_lexer": "ipython3",
   "version": "3.7.10"
  }
 },
 "nbformat": 4,
 "nbformat_minor": 5
}
