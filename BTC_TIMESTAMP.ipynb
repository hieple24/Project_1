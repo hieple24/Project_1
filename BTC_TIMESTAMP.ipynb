{
 "cells": [
  {
   "cell_type": "code",
   "execution_count": 170,
   "id": "d5f845f0-d3e6-4e20-b340-f56d55b7b253",
   "metadata": {},
   "outputs": [],
   "source": [
    "import requests\n",
    "import csv\n",
    "from datetime import date\n",
    "import matplotlib.pyplot as plt\n",
    "import pandas as pd\n",
    "from dotenv import load_dotenv\n",
    "from pathlib import Path\n",
    "import json\n",
    "from time import gmtime, strftime\n",
    "import time"
   ]
  },
  {
   "cell_type": "code",
   "execution_count": 172,
   "id": "533109a1-4591-42d0-b198-404fbf40726e",
   "metadata": {},
   "outputs": [
    {
     "data": {
      "text/plain": [
       "True"
      ]
     },
     "execution_count": 172,
     "metadata": {},
     "output_type": "execute_result"
    }
   ],
   "source": [
    "load_dotenv()"
   ]
  },
  {
   "cell_type": "code",
   "execution_count": 173,
   "id": "bd6276de-f8da-42ec-acb9-0883d7c12b38",
   "metadata": {},
   "outputs": [],
   "source": [
    "cryptocompare_api_key = \"cryptocompare_api_key\""
   ]
  },
  {
   "cell_type": "code",
   "execution_count": 178,
   "id": "def48c48-b45c-42ca-8755-50cd3b39f6d2",
   "metadata": {},
   "outputs": [],
   "source": [
    "def get_BTC_prices():\n",
    "    url = \"https://min-api.cryptocompare.com/data/v2/histohour?fsym=BTC&tsym=USD&limit=168&api_key=\"\n",
    "    response = requests.get(url + cryptocompare_api_key)\n",
    "    my_dict = response.json()\n",
    "    dictionary = my_dict[\"Data\"]\n",
    "    \n",
    "    columns = [\"Timestamp\", \"Value\"]\n",
    "    rows = []\n",
    "    \n",
    "    for entries in dictionary[\"Data\"]:\n",
    "        epoch = entries[\"time\"]\n",
    "        date = time.strftime(\"%m/%d/%Y, %H:%M:%S\", time.localtime(epoch))\n",
    "        closing_price = entries[\"close\"]\n",
    "        rows.append((date, closing_price))\n",
    "    \n",
    "    csvpath = Path(\"BTC_Data.csv\")\n",
    "    with open(csvpath, \"w\") as csvfile:\n",
    "        csvwriter = csv.writer(csvfile)\n",
    "        csvwriter.writerow(columns)\n",
    "        csvwriter.writerows(rows)"
   ]
  },
  {
   "cell_type": "code",
   "execution_count": 179,
   "id": "9448e6e5-567f-4998-9695-98755b35cc18",
   "metadata": {},
   "outputs": [],
   "source": [
    "get_BTC_prices()"
   ]
  }
 ],
 "metadata": {
  "kernelspec": {
   "display_name": "dev",
   "language": "python",
   "name": "dev"
  },
  "language_info": {
   "codemirror_mode": {
    "name": "ipython",
    "version": 3
   },
   "file_extension": ".py",
   "mimetype": "text/x-python",
   "name": "python",
   "nbconvert_exporter": "python",
   "pygments_lexer": "ipython3",
   "version": "3.7.10"
  }
 },
 "nbformat": 4,
 "nbformat_minor": 5
}
